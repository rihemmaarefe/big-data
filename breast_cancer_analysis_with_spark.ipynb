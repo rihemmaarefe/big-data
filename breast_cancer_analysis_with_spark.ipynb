{
  "cells": [
    {
      "cell_type": "markdown",
      "metadata": {
        "id": "view-in-github",
        "colab_type": "text"
      },
      "source": [
        "<a href=\"https://colab.research.google.com/github/rihemmaarefe/big-data/blob/main/breast_cancer_analysis_with_spark.ipynb\" target=\"_parent\"><img src=\"https://colab.research.google.com/assets/colab-badge.svg\" alt=\"Open In Colab\"/></a>"
      ]
    },
    {
      "cell_type": "markdown",
      "metadata": {
        "id": "vBmh0Q366NML"
      },
      "source": [
        "# Spark Environment "
      ]
    },
    {
      "cell_type": "code",
      "execution_count": 1,
      "metadata": {
        "colab": {
          "base_uri": "https://localhost:8080/"
        },
        "id": "OmmnAtwU5FsC",
        "outputId": "f0650334-51da-4708-a83f-a812b2acebe8"
      },
      "outputs": [
        {
          "output_type": "stream",
          "name": "stdout",
          "text": [
            "Looking in indexes: https://pypi.org/simple, https://us-python.pkg.dev/colab-wheels/public/simple/\n",
            "Collecting findspark\n",
            "  Downloading findspark-2.0.1-py2.py3-none-any.whl (4.4 kB)\n",
            "Installing collected packages: findspark\n",
            "Successfully installed findspark-2.0.1\n"
          ]
        }
      ],
      "source": [
        "#install findspark\n",
        "!pip install findspark\n",
        "\n",
        "# install java\n",
        "!apt-get install openjdk-8-jdk-headless -qq > /dev/null\n",
        "\n",
        "# install spark (change the version number if needed)\n",
        "!wget -q https://archive.apache.org/dist/spark/spark-3.0.0/spark-3.0.0-bin-hadoop3.2.tgz\n",
        "\n",
        "# unzip the spark file to the current folder\n",
        "!tar xf spark-3.0.0-bin-hadoop3.2.tgz"
      ]
    },
    {
      "cell_type": "code",
      "execution_count": 2,
      "metadata": {
        "id": "ornz2kkD5gx-"
      },
      "outputs": [],
      "source": [
        "# set your spark folder to your system path environment. \n",
        "import os\n",
        "os.environ[\"JAVA_HOME\"] = \"/usr/lib/jvm/java-8-openjdk-amd64\"\n",
        "os.environ[\"SPARK_HOME\"] = \"/content/spark-3.0.0-bin-hadoop3.2\""
      ]
    },
    {
      "cell_type": "code",
      "execution_count": 3,
      "metadata": {
        "id": "USKk_Bu95jT0"
      },
      "outputs": [],
      "source": [
        "import findspark\n",
        "findspark.init()\n",
        "from pyspark.sql import SparkSession \n",
        "spark = SparkSession.builder.master(\"local[*]\").getOrCreate()"
      ]
    },
    {
      "cell_type": "markdown",
      "metadata": {
        "id": "21EOfGCF6TQ-"
      },
      "source": [
        "# Load Dataset"
      ]
    },
    {
      "cell_type": "code",
      "execution_count": 4,
      "metadata": {
        "colab": {
          "base_uri": "https://localhost:8080/",
          "height": 111,
          "resources": {
            "http://localhost:8080/nbextensions/google.colab/files.js": {
              "data": "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",
              "headers": [
                [
                  "content-type",
                  "application/javascript"
                ]
              ],
              "ok": true,
              "status": 200,
              "status_text": ""
            }
          }
        },
        "id": "DSnHvNCS5los",
        "outputId": "5cd3f577-eb89-4114-d3d9-6eddd4d86135"
      },
      "outputs": [
        {
          "output_type": "display_data",
          "data": {
            "text/plain": [
              "<IPython.core.display.HTML object>"
            ],
            "text/html": [
              "\n",
              "     <input type=\"file\" id=\"files-9c1af650-2ac1-4177-8762-3e56edd837ac\" name=\"files[]\" multiple disabled\n",
              "        style=\"border:none\" />\n",
              "     <output id=\"result-9c1af650-2ac1-4177-8762-3e56edd837ac\">\n",
              "      Upload widget is only available when the cell has been executed in the\n",
              "      current browser session. Please rerun this cell to enable.\n",
              "      </output>\n",
              "      <script src=\"/nbextensions/google.colab/files.js\"></script> "
            ]
          },
          "metadata": {}
        },
        {
          "output_type": "stream",
          "name": "stdout",
          "text": [
            "Saving Breast_cancer_data.csv to Breast_cancer_data.csv\n"
          ]
        },
        {
          "output_type": "execute_result",
          "data": {
            "text/plain": [
              "{'Breast_cancer_data.csv': b'mean_radius,mean_texture,mean_perimeter,mean_area,mean_smoothness,diagnosis\\r\\n17.99,10.38,122.8,1001.0,0.1184,0\\r\\n20.57,17.77,132.9,1326.0,0.08474,0\\r\\n19.69,21.25,130.0,1203.0,0.1096,0\\r\\n11.42,20.38,77.58,386.1,0.1425,0\\r\\n20.29,14.34,135.1,1297.0,0.1003,0\\r\\n12.45,15.7,82.57,477.1,0.1278,0\\r\\n18.25,19.98,119.6,1040.0,0.09463,0\\r\\n13.71,20.83,90.2,577.9,0.1189,0\\r\\n13.0,21.82,87.5,519.8,0.1273,0\\r\\n12.46,24.04,83.97,475.9,0.1186,0\\r\\n16.02,23.24,102.7,797.8,0.08206,0\\r\\n15.78,17.89,103.6,781.0,0.0971,0\\r\\n19.17,24.8,132.4,1123.0,0.0974,0\\r\\n15.85,23.95,103.7,782.7,0.08401,0\\r\\n13.73,22.61,93.6,578.3,0.1131,0\\r\\n14.54,27.54,96.73,658.8,0.1139,0\\r\\n14.68,20.13,94.74,684.5,0.09867,0\\r\\n16.13,20.68,108.1,798.8,0.117,0\\r\\n19.81,22.15,130.0,1260.0,0.09831,0\\r\\n13.54,14.36,87.46,566.3,0.09779,1\\r\\n13.08,15.71,85.63,520.0,0.1075,1\\r\\n9.504,12.44,60.34,273.9,0.1024,1\\r\\n15.34,14.26,102.5,704.4,0.1073,0\\r\\n21.16,23.04,137.2,1404.0,0.09428,0\\r\\n16.65,21.38,110.0,904.6,0.1121,0\\r\\n17.14,16.4,116.0,912.7,0.1186,0\\r\\n14.58,21.53,97.41,644.8,0.1054,0\\r\\n18.61,20.25,122.1,1094.0,0.0944,0\\r\\n15.3,25.27,102.4,732.4,0.1082,0\\r\\n17.57,15.05,115.0,955.1,0.09847,0\\r\\n18.63,25.11,124.8,1088.0,0.1064,0\\r\\n11.84,18.7,77.93,440.6,0.1109,0\\r\\n17.02,23.98,112.8,899.3,0.1197,0\\r\\n19.27,26.47,127.9,1162.0,0.09401,0\\r\\n16.13,17.88,107.0,807.2,0.104,0\\r\\n16.74,21.59,110.1,869.5,0.0961,0\\r\\n14.25,21.72,93.63,633.0,0.09823,0\\r\\n13.03,18.42,82.61,523.8,0.08983,1\\r\\n14.99,25.2,95.54,698.8,0.09387,0\\r\\n13.48,20.82,88.4,559.2,0.1016,0\\r\\n13.44,21.58,86.18,563.0,0.08162,0\\r\\n10.95,21.35,71.9,371.1,0.1227,0\\r\\n19.07,24.81,128.3,1104.0,0.09081,0\\r\\n13.28,20.28,87.32,545.2,0.1041,0\\r\\n13.17,21.81,85.42,531.5,0.09714,0\\r\\n18.65,17.6,123.7,1076.0,0.1099,0\\r\\n8.196,16.84,51.71,201.9,0.086,1\\r\\n13.17,18.66,85.98,534.6,0.1158,0\\r\\n12.05,14.63,78.04,449.3,0.1031,1\\r\\n13.49,22.3,86.91,561.0,0.08752,1\\r\\n11.76,21.6,74.72,427.9,0.08637,1\\r\\n13.64,16.34,87.21,571.8,0.07685,1\\r\\n11.94,18.24,75.71,437.6,0.08261,1\\r\\n18.22,18.7,120.3,1033.0,0.1148,0\\r\\n15.1,22.02,97.26,712.8,0.09056,0\\r\\n11.52,18.75,73.34,409.0,0.09524,1\\r\\n19.21,18.57,125.5,1152.0,0.1053,0\\r\\n14.71,21.59,95.55,656.9,0.1137,0\\r\\n13.05,19.31,82.61,527.2,0.0806,1\\r\\n8.618,11.79,54.34,224.5,0.09752,1\\r\\n10.17,14.88,64.55,311.9,0.1134,1\\r\\n8.598,20.98,54.66,221.8,0.1243,1\\r\\n14.25,22.15,96.42,645.7,0.1049,0\\r\\n9.173,13.86,59.2,260.9,0.07721,1\\r\\n12.68,23.84,82.69,499.0,0.1122,0\\r\\n14.78,23.94,97.4,668.3,0.1172,0\\r\\n9.465,21.01,60.11,269.4,0.1044,1\\r\\n11.31,19.04,71.8,394.1,0.08139,1\\r\\n9.029,17.33,58.79,250.5,0.1066,1\\r\\n12.78,16.49,81.37,502.5,0.09831,1\\r\\n18.94,21.31,123.6,1130.0,0.09009,0\\r\\n8.888,14.64,58.79,244.0,0.09783,1\\r\\n17.2,24.52,114.2,929.4,0.1071,0\\r\\n13.8,15.79,90.43,584.1,0.1007,0\\r\\n12.31,16.52,79.19,470.9,0.09172,1\\r\\n16.07,19.65,104.1,817.7,0.09168,0\\r\\n13.53,10.94,87.91,559.2,0.1291,1\\r\\n18.05,16.15,120.2,1006.0,0.1065,0\\r\\n20.18,23.97,143.7,1245.0,0.1286,0\\r\\n12.86,18.0,83.19,506.3,0.09934,1\\r\\n11.45,20.97,73.81,401.5,0.1102,1\\r\\n13.34,15.86,86.49,520.0,0.1078,1\\r\\n25.22,24.91,171.5,1878.0,0.1063,0\\r\\n19.1,26.29,129.1,1132.0,0.1215,0\\r\\n12.0,15.65,76.95,443.3,0.09723,1\\r\\n18.46,18.52,121.1,1075.0,0.09874,0\\r\\n14.48,21.46,94.25,648.2,0.09444,0\\r\\n19.02,24.59,122.0,1076.0,0.09029,0\\r\\n12.36,21.8,79.78,466.1,0.08772,1\\r\\n14.64,15.24,95.77,651.9,0.1132,1\\r\\n14.62,24.02,94.57,662.7,0.08974,1\\r\\n15.37,22.76,100.2,728.2,0.092,0\\r\\n13.27,14.76,84.74,551.7,0.07355,1\\r\\n13.45,18.3,86.6,555.1,0.1022,1\\r\\n15.06,19.83,100.3,705.6,0.1039,0\\r\\n20.26,23.03,132.4,1264.0,0.09078,0\\r\\n12.18,17.84,77.79,451.1,0.1045,1\\r\\n9.787,19.94,62.11,294.5,0.1024,1\\r\\n11.6,12.84,74.34,412.6,0.08983,1\\r\\n14.42,19.77,94.48,642.5,0.09752,0\\r\\n13.61,24.98,88.05,582.7,0.09488,0\\r\\n6.981,13.43,43.79,143.5,0.117,1\\r\\n12.18,20.52,77.22,458.7,0.08013,1\\r\\n9.876,19.4,63.95,298.3,0.1005,1\\r\\n10.49,19.29,67.41,336.1,0.09989,1\\r\\n13.11,15.56,87.21,530.2,0.1398,0\\r\\n11.64,18.33,75.17,412.5,0.1142,1\\r\\n12.36,18.54,79.01,466.7,0.08477,1\\r\\n22.27,19.67,152.8,1509.0,0.1326,0\\r\\n11.34,21.26,72.48,396.5,0.08759,1\\r\\n9.777,16.99,62.5,290.2,0.1037,1\\r\\n12.63,20.76,82.15,480.4,0.09933,1\\r\\n14.26,19.65,97.83,629.9,0.07837,1\\r\\n10.51,20.19,68.64,334.2,0.1122,1\\r\\n8.726,15.83,55.84,230.9,0.115,1\\r\\n11.93,21.53,76.53,438.6,0.09768,1\\r\\n8.95,15.76,58.74,245.2,0.09462,1\\r\\n14.87,16.67,98.64,682.5,0.1162,0\\r\\n15.78,22.91,105.7,782.6,0.1155,0\\r\\n17.95,20.01,114.2,982.0,0.08402,0\\r\\n11.41,10.82,73.34,403.3,0.09373,1\\r\\n18.66,17.12,121.4,1077.0,0.1054,0\\r\\n24.25,20.2,166.2,1761.0,0.1447,0\\r\\n14.5,10.89,94.28,640.7,0.1101,1\\r\\n13.37,16.39,86.1,553.5,0.07115,1\\r\\n13.85,17.21,88.44,588.7,0.08785,1\\r\\n13.61,24.69,87.76,572.6,0.09258,0\\r\\n19.0,18.91,123.4,1138.0,0.08217,0\\r\\n15.1,16.39,99.58,674.5,0.115,1\\r\\n19.79,25.12,130.4,1192.0,0.1015,0\\r\\n12.19,13.29,79.08,455.8,0.1066,1\\r\\n15.46,19.48,101.7,748.9,0.1092,0\\r\\n16.16,21.54,106.2,809.8,0.1008,0\\r\\n15.71,13.93,102.0,761.7,0.09462,1\\r\\n18.45,21.91,120.2,1075.0,0.0943,0\\r\\n12.77,22.47,81.72,506.3,0.09055,0\\r\\n11.71,16.67,74.72,423.6,0.1051,1\\r\\n11.43,15.39,73.06,399.8,0.09639,1\\r\\n14.95,17.57,96.85,678.1,0.1167,0\\r\\n11.28,13.39,73.0,384.8,0.1164,1\\r\\n9.738,11.97,61.24,288.5,0.0925,1\\r\\n16.11,18.05,105.1,813.0,0.09721,0\\r\\n11.43,17.31,73.66,398.0,0.1092,1\\r\\n12.9,15.92,83.74,512.2,0.08677,1\\r\\n10.75,14.97,68.26,355.3,0.07793,1\\r\\n11.9,14.65,78.11,432.8,0.1152,1\\r\\n11.8,16.58,78.99,432.0,0.1091,0\\r\\n14.95,18.77,97.84,689.5,0.08138,1\\r\\n14.44,15.18,93.97,640.1,0.0997,1\\r\\n13.74,17.91,88.12,585.0,0.07944,1\\r\\n13.0,20.78,83.51,519.4,0.1135,1\\r\\n8.219,20.7,53.27,203.9,0.09405,1\\r\\n9.731,15.34,63.78,300.2,0.1072,1\\r\\n11.15,13.08,70.87,381.9,0.09754,1\\r\\n13.15,15.34,85.31,538.9,0.09384,1\\r\\n12.25,17.94,78.27,460.3,0.08654,1\\r\\n17.68,20.74,117.4,963.7,0.1115,0\\r\\n16.84,19.46,108.4,880.2,0.07445,1\\r\\n12.06,12.74,76.84,448.6,0.09311,1\\r\\n10.9,12.96,68.69,366.8,0.07515,1\\r\\n11.75,20.18,76.1,419.8,0.1089,1\\r\\n19.19,15.94,126.3,1157.0,0.08694,0\\r\\n19.59,18.15,130.7,1214.0,0.112,0\\r\\n12.34,22.22,79.85,464.5,0.1012,1\\r\\n23.27,22.04,152.1,1686.0,0.08439,0\\r\\n14.97,19.76,95.5,690.2,0.08421,1\\r\\n10.8,9.71,68.77,357.6,0.09594,1\\r\\n16.78,18.8,109.3,886.3,0.08865,0\\r\\n17.47,24.68,116.1,984.6,0.1049,0\\r\\n14.97,16.95,96.22,685.9,0.09855,1\\r\\n12.32,12.39,78.85,464.1,0.1028,1\\r\\n13.43,19.63,85.84,565.4,0.09048,0\\r\\n15.46,11.89,102.5,736.9,0.1257,0\\r\\n11.08,14.71,70.21,372.7,0.1006,1\\r\\n10.66,15.15,67.49,349.6,0.08792,1\\r\\n8.671,14.45,54.42,227.2,0.09138,1\\r\\n9.904,18.06,64.6,302.4,0.09699,1\\r\\n16.46,20.11,109.3,832.9,0.09831,0\\r\\n13.01,22.22,82.01,526.4,0.06251,1\\r\\n12.81,13.06,81.29,508.8,0.08739,1\\r\\n27.22,21.87,182.1,2250.0,0.1094,0\\r\\n21.09,26.57,142.7,1311.0,0.1141,0\\r\\n15.7,20.31,101.2,766.6,0.09597,0\\r\\n11.41,14.92,73.53,402.0,0.09059,1\\r\\n15.28,22.41,98.92,710.6,0.09057,0\\r\\n10.08,15.11,63.76,317.5,0.09267,1\\r\\n18.31,18.58,118.6,1041.0,0.08588,0\\r\\n11.71,17.19,74.68,420.3,0.09774,1\\r\\n11.81,17.39,75.27,428.9,0.1007,1\\r\\n12.3,15.9,78.83,463.7,0.0808,1\\r\\n14.22,23.12,94.37,609.9,0.1075,0\\r\\n12.77,21.41,82.02,507.4,0.08749,1\\r\\n9.72,18.22,60.73,288.1,0.0695,1\\r\\n12.34,26.86,81.15,477.4,0.1034,0\\r\\n14.86,23.21,100.4,671.4,0.1044,0\\r\\n12.91,16.33,82.53,516.4,0.07941,1\\r\\n13.77,22.29,90.63,588.9,0.12,0\\r\\n18.08,21.84,117.4,1024.0,0.07371,0\\r\\n19.18,22.49,127.5,1148.0,0.08523,0\\r\\n14.45,20.22,94.49,642.7,0.09872,0\\r\\n12.23,19.56,78.54,461.0,0.09586,1\\r\\n17.54,19.32,115.1,951.6,0.08968,0\\r\\n23.29,26.67,158.9,1685.0,0.1141,0\\r\\n13.81,23.75,91.56,597.8,0.1323,0\\r\\n12.47,18.6,81.09,481.9,0.09965,1\\r\\n15.12,16.68,98.78,716.6,0.08876,0\\r\\n9.876,17.27,62.92,295.4,0.1089,1\\r\\n17.01,20.26,109.7,904.3,0.08772,0\\r\\n13.11,22.54,87.02,529.4,0.1002,1\\r\\n15.27,12.91,98.17,725.5,0.08182,1\\r\\n20.58,22.14,134.7,1290.0,0.0909,0\\r\\n11.84,18.94,75.51,428.0,0.08871,1\\r\\n28.11,18.47,188.5,2499.0,0.1142,0\\r\\n17.42,25.56,114.5,948.0,0.1006,0\\r\\n14.19,23.81,92.87,610.7,0.09463,0\\r\\n13.86,16.93,90.96,578.9,0.1026,0\\r\\n11.89,18.35,77.32,432.2,0.09363,1\\r\\n10.2,17.48,65.05,321.2,0.08054,1\\r\\n19.8,21.56,129.7,1230.0,0.09383,0\\r\\n19.53,32.47,128.0,1223.0,0.0842,0\\r\\n13.65,13.16,87.88,568.9,0.09646,1\\r\\n13.56,13.9,88.59,561.3,0.1051,1\\r\\n10.18,17.53,65.12,313.1,0.1061,1\\r\\n15.75,20.25,102.6,761.3,0.1025,0\\r\\n13.27,17.02,84.55,546.4,0.08445,1\\r\\n14.34,13.47,92.51,641.2,0.09906,1\\r\\n10.44,15.46,66.62,329.6,0.1053,1\\r\\n15.0,15.51,97.45,684.5,0.08371,1\\r\\n12.62,23.97,81.35,496.4,0.07903,1\\r\\n12.83,22.33,85.26,503.2,0.1088,0\\r\\n17.05,19.08,113.4,895.0,0.1141,0\\r\\n11.32,27.08,71.76,395.7,0.06883,1\\r\\n11.22,33.81,70.79,386.8,0.0778,1\\r\\n20.51,27.81,134.4,1319.0,0.09159,0\\r\\n9.567,15.91,60.21,279.6,0.08464,1\\r\\n14.03,21.25,89.79,603.4,0.0907,1\\r\\n23.21,26.97,153.5,1670.0,0.09509,0\\r\\n20.48,21.46,132.5,1306.0,0.08355,0\\r\\n14.22,27.85,92.55,623.9,0.08223,1\\r\\n17.46,39.28,113.4,920.6,0.09812,0\\r\\n13.64,15.6,87.38,575.3,0.09423,1\\r\\n12.42,15.04,78.61,476.5,0.07926,1\\r\\n11.3,18.19,73.93,389.4,0.09592,1\\r\\n13.75,23.77,88.54,590.0,0.08043,1\\r\\n19.4,23.5,129.1,1155.0,0.1027,0\\r\\n10.48,19.86,66.72,337.7,0.107,1\\r\\n13.2,17.43,84.13,541.6,0.07215,1\\r\\n12.89,14.11,84.95,512.2,0.0876,1\\r\\n10.65,25.22,68.01,347.0,0.09657,1\\r\\n11.52,14.93,73.87,406.3,0.1013,1\\r\\n20.94,23.56,138.9,1364.0,0.1007,0\\r\\n11.5,18.45,73.28,407.4,0.09345,1\\r\\n19.73,19.82,130.7,1206.0,0.1062,0\\r\\n17.3,17.08,113.0,928.2,0.1008,0\\r\\n19.45,19.33,126.5,1169.0,0.1035,0\\r\\n13.96,17.05,91.43,602.4,0.1096,0\\r\\n19.55,28.77,133.6,1207.0,0.0926,0\\r\\n15.32,17.27,103.2,713.3,0.1335,0\\r\\n15.66,23.2,110.2,773.5,0.1109,0\\r\\n15.53,33.56,103.7,744.9,0.1063,0\\r\\n20.31,27.06,132.9,1288.0,0.1,0\\r\\n17.35,23.06,111.0,933.1,0.08662,0\\r\\n17.29,22.13,114.4,947.8,0.08999,0\\r\\n15.61,19.38,100.0,758.6,0.0784,0\\r\\n17.19,22.07,111.6,928.3,0.09726,0\\r\\n20.73,31.12,135.7,1419.0,0.09469,0\\r\\n10.6,18.95,69.28,346.4,0.09688,1\\r\\n13.59,21.84,87.16,561.0,0.07956,1\\r\\n12.87,16.21,82.38,512.2,0.09425,1\\r\\n10.71,20.39,69.5,344.9,0.1082,1\\r\\n14.29,16.82,90.3,632.6,0.06429,1\\r\\n11.29,13.04,72.23,388.0,0.09834,1\\r\\n21.75,20.99,147.3,1491.0,0.09401,0\\r\\n9.742,15.67,61.5,289.9,0.09037,1\\r\\n17.93,24.48,115.2,998.9,0.08855,0\\r\\n11.89,17.36,76.2,435.6,0.1225,1\\r\\n11.33,14.16,71.79,396.6,0.09379,1\\r\\n18.81,19.98,120.9,1102.0,0.08923,0\\r\\n13.59,17.84,86.24,572.3,0.07948,1\\r\\n13.85,15.18,88.99,587.4,0.09516,1\\r\\n19.16,26.6,126.2,1138.0,0.102,0\\r\\n11.74,14.02,74.24,427.3,0.07813,1\\r\\n19.4,18.18,127.2,1145.0,0.1037,0\\r\\n16.24,18.77,108.8,805.1,0.1066,0\\r\\n12.89,15.7,84.08,516.6,0.07818,1\\r\\n12.58,18.4,79.83,489.0,0.08393,1\\r\\n11.94,20.76,77.87,441.0,0.08605,1\\r\\n12.89,13.12,81.89,515.9,0.06955,1\\r\\n11.26,19.96,73.72,394.1,0.0802,1\\r\\n11.37,18.89,72.17,396.0,0.08713,1\\r\\n14.41,19.73,96.03,651.0,0.08757,1\\r\\n14.96,19.1,97.03,687.3,0.08992,1\\r\\n12.95,16.02,83.14,513.7,0.1005,1\\r\\n11.85,17.46,75.54,432.7,0.08372,1\\r\\n12.72,13.78,81.78,492.1,0.09667,1\\r\\n13.77,13.27,88.06,582.7,0.09198,1\\r\\n10.91,12.35,69.14,363.7,0.08518,1\\r\\n11.76,18.14,75.0,431.1,0.09968,0\\r\\n14.26,18.17,91.22,633.1,0.06576,1\\r\\n10.51,23.09,66.85,334.2,0.1015,1\\r\\n19.53,18.9,129.5,1217.0,0.115,0\\r\\n12.46,19.89,80.43,471.3,0.08451,1\\r\\n20.09,23.86,134.7,1247.0,0.108,0\\r\\n10.49,18.61,66.86,334.3,0.1068,1\\r\\n11.46,18.16,73.59,403.1,0.08853,1\\r\\n11.6,24.49,74.23,417.2,0.07474,1\\r\\n13.2,15.82,84.07,537.3,0.08511,1\\r\\n9.0,14.4,56.36,246.3,0.07005,1\\r\\n13.5,12.71,85.69,566.2,0.07376,1\\r\\n13.05,13.84,82.71,530.6,0.08352,1\\r\\n11.7,19.11,74.33,418.7,0.08814,1\\r\\n14.61,15.69,92.68,664.9,0.07618,1\\r\\n12.76,13.37,82.29,504.1,0.08794,1\\r\\n11.54,10.72,73.73,409.1,0.08597,1\\r\\n8.597,18.6,54.09,221.2,0.1074,1\\r\\n12.49,16.85,79.19,481.6,0.08511,1\\r\\n12.18,14.08,77.25,461.4,0.07734,1\\r\\n18.22,18.87,118.7,1027.0,0.09746,0\\r\\n9.042,18.9,60.07,244.5,0.09968,1\\r\\n12.43,17.0,78.6,477.3,0.07557,1\\r\\n10.25,16.18,66.52,324.2,0.1061,1\\r\\n20.16,19.66,131.1,1274.0,0.0802,0\\r\\n12.86,13.32,82.82,504.8,0.1134,1\\r\\n20.34,21.51,135.9,1264.0,0.117,0\\r\\n12.2,15.21,78.01,457.9,0.08673,1\\r\\n12.67,17.3,81.25,489.9,0.1028,1\\r\\n14.11,12.88,90.03,616.5,0.09309,1\\r\\n12.03,17.93,76.09,446.0,0.07683,1\\r\\n16.27,20.71,106.9,813.7,0.1169,0\\r\\n16.26,21.88,107.5,826.8,0.1165,0\\r\\n16.03,15.51,105.8,793.2,0.09491,0\\r\\n12.98,19.35,84.52,514.0,0.09579,1\\r\\n11.22,19.86,71.94,387.3,0.1054,1\\r\\n11.25,14.78,71.38,390.0,0.08306,1\\r\\n12.3,19.02,77.88,464.4,0.08313,1\\r\\n17.06,21.0,111.8,918.6,0.1119,0\\r\\n12.99,14.23,84.08,514.3,0.09462,1\\r\\n18.77,21.43,122.9,1092.0,0.09116,0\\r\\n10.05,17.53,64.41,310.8,0.1007,1\\r\\n23.51,24.27,155.1,1747.0,0.1069,0\\r\\n14.42,16.54,94.15,641.2,0.09751,1\\r\\n9.606,16.84,61.64,280.5,0.08481,1\\r\\n11.06,14.96,71.49,373.9,0.1033,1\\r\\n19.68,21.68,129.9,1194.0,0.09797,0\\r\\n11.71,15.45,75.03,420.3,0.115,1\\r\\n10.26,14.71,66.2,321.6,0.09882,1\\r\\n12.06,18.9,76.66,445.3,0.08386,1\\r\\n14.76,14.74,94.87,668.7,0.08875,1\\r\\n11.47,16.03,73.02,402.7,0.09076,1\\r\\n11.95,14.96,77.23,426.7,0.1158,1\\r\\n11.66,17.07,73.7,421.0,0.07561,1\\r\\n15.75,19.22,107.1,758.6,0.1243,0\\r\\n25.73,17.46,174.2,2010.0,0.1149,0\\r\\n15.08,25.74,98.0,716.6,0.1024,0\\r\\n11.14,14.07,71.24,384.6,0.07274,1\\r\\n12.56,19.07,81.92,485.8,0.0876,1\\r\\n13.05,18.59,85.09,512.0,0.1082,1\\r\\n13.87,16.21,88.52,593.7,0.08743,1\\r\\n8.878,15.49,56.74,241.0,0.08293,1\\r\\n9.436,18.32,59.82,278.6,0.1009,1\\r\\n12.54,18.07,79.42,491.9,0.07436,1\\r\\n13.3,21.57,85.24,546.1,0.08582,1\\r\\n12.76,18.84,81.87,496.6,0.09676,1\\r\\n16.5,18.29,106.6,838.1,0.09686,1\\r\\n13.4,16.95,85.48,552.4,0.07937,1\\r\\n20.44,21.78,133.8,1293.0,0.0915,0\\r\\n20.2,26.83,133.7,1234.0,0.09905,0\\r\\n12.21,18.02,78.31,458.4,0.09231,1\\r\\n21.71,17.25,140.9,1546.0,0.09384,0\\r\\n22.01,21.9,147.2,1482.0,0.1063,0\\r\\n16.35,23.29,109.0,840.4,0.09742,0\\r\\n15.19,13.21,97.65,711.8,0.07963,1\\r\\n21.37,15.1,141.3,1386.0,0.1001,0\\r\\n20.64,17.35,134.8,1335.0,0.09446,0\\r\\n13.69,16.07,87.84,579.1,0.08302,1\\r\\n16.17,16.07,106.3,788.5,0.0988,1\\r\\n10.57,20.22,70.15,338.3,0.09073,1\\r\\n13.46,28.21,85.89,562.1,0.07517,1\\r\\n13.66,15.15,88.27,580.6,0.08268,1\\r\\n11.08,18.83,73.3,361.6,0.1216,0\\r\\n11.27,12.96,73.16,386.3,0.1237,1\\r\\n11.04,14.93,70.67,372.7,0.07987,1\\r\\n12.05,22.72,78.75,447.8,0.06935,1\\r\\n12.39,17.48,80.64,462.9,0.1042,1\\r\\n13.28,13.72,85.79,541.8,0.08363,1\\r\\n14.6,23.29,93.97,664.7,0.08682,0\\r\\n12.21,14.09,78.78,462.0,0.08108,1\\r\\n13.88,16.16,88.37,596.6,0.07026,1\\r\\n11.27,15.5,73.38,392.0,0.08365,1\\r\\n19.55,23.21,128.9,1174.0,0.101,0\\r\\n10.26,12.22,65.75,321.6,0.09996,1\\r\\n8.734,16.84,55.27,234.3,0.1039,1\\r\\n15.49,19.97,102.4,744.7,0.116,0\\r\\n21.61,22.28,144.4,1407.0,0.1167,0\\r\\n12.1,17.72,78.07,446.2,0.1029,1\\r\\n14.06,17.18,89.75,609.1,0.08045,1\\r\\n13.51,18.89,88.1,558.1,0.1059,1\\r\\n12.8,17.46,83.05,508.3,0.08044,1\\r\\n11.06,14.83,70.31,378.2,0.07741,1\\r\\n11.8,17.26,75.26,431.9,0.09087,1\\r\\n17.91,21.02,124.4,994.0,0.123,0\\r\\n11.93,10.91,76.14,442.7,0.08872,1\\r\\n12.96,18.29,84.18,525.2,0.07351,1\\r\\n12.94,16.17,83.18,507.6,0.09879,1\\r\\n12.34,14.95,78.29,469.1,0.08682,1\\r\\n10.94,18.59,70.39,370.0,0.1004,1\\r\\n16.14,14.86,104.3,800.0,0.09495,1\\r\\n12.85,21.37,82.63,514.5,0.07551,1\\r\\n17.99,20.66,117.8,991.7,0.1036,0\\r\\n12.27,17.92,78.41,466.1,0.08685,1\\r\\n11.36,17.57,72.49,399.8,0.08858,1\\r\\n11.04,16.83,70.92,373.2,0.1077,1\\r\\n9.397,21.68,59.75,268.8,0.07969,1\\r\\n14.99,22.11,97.53,693.7,0.08515,1\\r\\n15.13,29.81,96.71,719.5,0.0832,0\\r\\n11.89,21.17,76.39,433.8,0.09773,1\\r\\n9.405,21.7,59.6,271.2,0.1044,1\\r\\n15.5,21.08,102.9,803.1,0.112,0\\r\\n12.7,12.17,80.88,495.0,0.08785,1\\r\\n11.16,21.41,70.95,380.3,0.1018,1\\r\\n11.57,19.04,74.2,409.7,0.08546,1\\r\\n14.69,13.98,98.22,656.1,0.1031,1\\r\\n11.61,16.02,75.46,408.2,0.1088,1\\r\\n13.66,19.13,89.46,575.3,0.09057,1\\r\\n9.742,19.12,61.93,289.7,0.1075,1\\r\\n10.03,21.28,63.19,307.3,0.08117,1\\r\\n10.48,14.98,67.49,333.6,0.09816,1\\r\\n10.8,21.98,68.79,359.9,0.08801,1\\r\\n11.13,16.62,70.47,381.1,0.08151,1\\r\\n12.72,17.67,80.98,501.3,0.07896,1\\r\\n14.9,22.53,102.1,685.0,0.09947,0\\r\\n12.4,17.68,81.47,467.8,0.1054,1\\r\\n20.18,19.54,133.8,1250.0,0.1133,0\\r\\n18.82,21.97,123.7,1110.0,0.1018,0\\r\\n14.86,16.94,94.89,673.7,0.08924,1\\r\\n13.98,19.62,91.12,599.5,0.106,0\\r\\n12.87,19.54,82.67,509.2,0.09136,1\\r\\n14.04,15.98,89.78,611.2,0.08458,1\\r\\n13.85,19.6,88.68,592.6,0.08684,1\\r\\n14.02,15.66,89.59,606.5,0.07966,1\\r\\n10.97,17.2,71.73,371.5,0.08915,1\\r\\n17.27,25.42,112.4,928.8,0.08331,0\\r\\n13.78,15.79,88.37,585.9,0.08817,1\\r\\n10.57,18.32,66.82,340.9,0.08142,1\\r\\n18.03,16.85,117.5,990.0,0.08947,0\\r\\n11.99,24.89,77.61,441.3,0.103,1\\r\\n17.75,28.03,117.3,981.6,0.09997,0\\r\\n14.8,17.66,95.88,674.8,0.09179,1\\r\\n14.53,19.34,94.25,659.7,0.08388,1\\r\\n21.1,20.52,138.1,1384.0,0.09684,0\\r\\n11.87,21.54,76.83,432.0,0.06613,1\\r\\n19.59,25.0,127.7,1191.0,0.1032,0\\r\\n12.0,28.23,76.77,442.5,0.08437,1\\r\\n14.53,13.98,93.86,644.2,0.1099,1\\r\\n12.62,17.15,80.62,492.9,0.08583,1\\r\\n13.38,30.72,86.34,557.2,0.09245,1\\r\\n11.63,29.29,74.87,415.1,0.09357,1\\r\\n13.21,25.25,84.1,537.9,0.08791,1\\r\\n13.0,25.13,82.61,520.2,0.08369,1\\r\\n9.755,28.2,61.68,290.9,0.07984,1\\r\\n17.08,27.15,111.2,930.9,0.09898,0\\r\\n27.42,26.27,186.9,2501.0,0.1084,0\\r\\n14.4,26.99,92.25,646.1,0.06995,1\\r\\n11.6,18.36,73.88,412.7,0.08508,1\\r\\n13.17,18.22,84.28,537.3,0.07466,1\\r\\n13.24,20.13,86.87,542.9,0.08284,1\\r\\n13.14,20.74,85.98,536.9,0.08675,1\\r\\n9.668,18.1,61.06,286.3,0.08311,1\\r\\n17.6,23.33,119.0,980.5,0.09289,0\\r\\n11.62,18.18,76.38,408.8,0.1175,1\\r\\n9.667,18.49,61.49,289.1,0.08946,1\\r\\n12.04,28.14,76.85,449.9,0.08752,1\\r\\n14.92,14.93,96.45,686.9,0.08098,1\\r\\n12.27,29.97,77.42,465.4,0.07699,1\\r\\n10.88,15.62,70.41,358.9,0.1007,1\\r\\n12.83,15.73,82.89,506.9,0.0904,1\\r\\n14.2,20.53,92.41,618.4,0.08931,1\\r\\n13.9,16.62,88.97,599.4,0.06828,1\\r\\n11.49,14.59,73.99,404.9,0.1046,1\\r\\n16.25,19.51,109.8,815.8,0.1026,0\\r\\n12.16,18.03,78.29,455.3,0.09087,1\\r\\n13.9,19.24,88.73,602.9,0.07991,1\\r\\n13.47,14.06,87.32,546.3,0.1071,1\\r\\n13.7,17.64,87.76,571.1,0.0995,1\\r\\n15.73,11.28,102.8,747.2,0.1043,1\\r\\n12.45,16.41,82.85,476.7,0.09514,1\\r\\n14.64,16.85,94.21,666.0,0.08641,1\\r\\n19.44,18.82,128.1,1167.0,0.1089,0\\r\\n11.68,16.17,75.49,420.5,0.1128,1\\r\\n16.69,20.2,107.1,857.6,0.07497,0\\r\\n12.25,22.44,78.18,466.5,0.08192,1\\r\\n17.85,13.23,114.6,992.1,0.07838,1\\r\\n18.01,20.56,118.4,1007.0,0.1001,0\\r\\n12.46,12.83,78.83,477.3,0.07372,1\\r\\n13.16,20.54,84.06,538.7,0.07335,1\\r\\n14.87,20.21,96.12,680.9,0.09587,1\\r\\n12.65,18.17,82.69,485.6,0.1076,1\\r\\n12.47,17.31,80.45,480.1,0.08928,1\\r\\n18.49,17.52,121.3,1068.0,0.1012,0\\r\\n20.59,21.24,137.8,1320.0,0.1085,0\\r\\n15.04,16.74,98.73,689.4,0.09883,1\\r\\n13.82,24.49,92.33,595.9,0.1162,0\\r\\n12.54,16.32,81.25,476.3,0.1158,1\\r\\n23.09,19.83,152.1,1682.0,0.09342,0\\r\\n9.268,12.87,61.49,248.7,0.1634,1\\r\\n9.676,13.14,64.12,272.5,0.1255,1\\r\\n12.22,20.04,79.47,453.1,0.1096,1\\r\\n11.06,17.12,71.25,366.5,0.1194,1\\r\\n16.3,15.7,104.7,819.8,0.09427,1\\r\\n15.46,23.95,103.8,731.3,0.1183,0\\r\\n11.74,14.69,76.31,426.0,0.08099,1\\r\\n14.81,14.7,94.66,680.7,0.08472,1\\r\\n13.4,20.52,88.64,556.7,0.1106,0\\r\\n14.58,13.66,94.29,658.8,0.09832,1\\r\\n15.05,19.07,97.26,701.9,0.09215,0\\r\\n11.34,18.61,72.76,391.2,0.1049,1\\r\\n18.31,20.58,120.8,1052.0,0.1068,0\\r\\n19.89,20.26,130.5,1214.0,0.1037,0\\r\\n12.88,18.22,84.45,493.1,0.1218,1\\r\\n12.75,16.7,82.51,493.8,0.1125,1\\r\\n9.295,13.9,59.96,257.8,0.1371,1\\r\\n24.63,21.6,165.5,1841.0,0.103,0\\r\\n11.26,19.83,71.3,388.1,0.08511,1\\r\\n13.71,18.68,88.73,571.0,0.09916,1\\r\\n9.847,15.68,63.0,293.2,0.09492,1\\r\\n8.571,13.1,54.53,221.3,0.1036,1\\r\\n13.46,18.75,87.44,551.1,0.1075,1\\r\\n12.34,12.27,78.94,468.5,0.09003,1\\r\\n13.94,13.17,90.31,594.2,0.1248,1\\r\\n12.07,13.44,77.83,445.2,0.11,1\\r\\n11.75,17.56,75.89,422.9,0.1073,1\\r\\n11.67,20.02,75.21,416.2,0.1016,1\\r\\n13.68,16.33,87.76,575.5,0.09277,1\\r\\n20.47,20.67,134.7,1299.0,0.09156,0\\r\\n10.96,17.62,70.79,365.6,0.09687,1\\r\\n20.55,20.86,137.8,1308.0,0.1046,0\\r\\n14.27,22.55,93.77,629.8,0.1038,0\\r\\n11.69,24.44,76.37,406.4,0.1236,1\\r\\n7.729,25.49,47.98,178.8,0.08098,1\\r\\n7.691,25.44,48.34,170.4,0.08668,1\\r\\n11.54,14.44,74.65,402.9,0.09984,1\\r\\n14.47,24.99,95.81,656.4,0.08837,1\\r\\n14.74,25.42,94.7,668.6,0.08275,1\\r\\n13.21,28.06,84.88,538.4,0.08671,1\\r\\n13.87,20.7,89.77,584.8,0.09578,1\\r\\n13.62,23.23,87.19,573.2,0.09246,1\\r\\n10.32,16.35,65.31,324.9,0.09434,1\\r\\n10.26,16.58,65.85,320.8,0.08877,1\\r\\n9.683,19.34,61.05,285.7,0.08491,1\\r\\n10.82,24.21,68.89,361.6,0.08192,1\\r\\n10.86,21.48,68.51,360.5,0.07431,1\\r\\n11.13,22.44,71.49,378.4,0.09566,1\\r\\n12.77,29.43,81.35,507.9,0.08276,1\\r\\n9.333,21.94,59.01,264.0,0.0924,1\\r\\n12.88,28.92,82.5,514.3,0.08123,1\\r\\n10.29,27.61,65.67,321.4,0.0903,1\\r\\n10.16,19.59,64.73,311.7,0.1003,1\\r\\n9.423,27.88,59.26,271.3,0.08123,1\\r\\n14.59,22.68,96.39,657.1,0.08473,1\\r\\n11.51,23.93,74.52,403.5,0.09261,1\\r\\n14.05,27.15,91.38,600.4,0.09929,1\\r\\n11.2,29.37,70.67,386.0,0.07449,1\\r\\n15.22,30.62,103.4,716.9,0.1048,0\\r\\n20.92,25.09,143.0,1347.0,0.1099,0\\r\\n21.56,22.39,142.0,1479.0,0.111,0\\r\\n20.13,28.25,131.2,1261.0,0.0978,0\\r\\n16.6,28.08,108.3,858.1,0.08455,0\\r\\n20.6,29.33,140.1,1265.0,0.1178,0\\r\\n7.76,24.54,47.92,181.0,0.05263,1\\r\\n'}"
            ]
          },
          "metadata": {},
          "execution_count": 4
        }
      ],
      "source": [
        "from google.colab import files\n",
        "files.upload()"
      ]
    },
    {
      "cell_type": "code",
      "execution_count": 5,
      "metadata": {
        "id": "ZhrIOGlP598T"
      },
      "outputs": [],
      "source": [
        "df = spark.read.format(\"csv\").option(\"header\",\"true\").option(\"inferSchema\",\"true\").option(\"mode\",\"failfast\").load(\"Breast_cancer_data.csv\")"
      ]
    },
    {
      "cell_type": "code",
      "execution_count": 6,
      "metadata": {
        "id": "ZiC8nwQQ6F1K"
      },
      "outputs": [],
      "source": [
        "df.createOrReplaceTempView(\"fb\")"
      ]
    },
    {
      "cell_type": "markdown",
      "metadata": {
        "id": "4DnDKpP_6Wr9"
      },
      "source": [
        "# Analysis Using Spark"
      ]
    },
    {
      "cell_type": "code",
      "execution_count": 7,
      "metadata": {
        "id": "CUE8muc36Y0E",
        "colab": {
          "base_uri": "https://localhost:8080/"
        },
        "outputId": "17d99c1f-25d8-4e20-9c39-66469b59b96c"
      },
      "outputs": [
        {
          "output_type": "stream",
          "name": "stdout",
          "text": [
            "['mean_radius', 'mean_texture', 'mean_perimeter', 'mean_area', 'mean_smoothness', 'diagnosis']\n",
            "      \n",
            "Number of column: 6\n",
            "      \n",
            "Number of row: 569\n"
          ]
        }
      ],
      "source": [
        "# Descover dataset's columns\n",
        "print(df.columns)\n",
        "\n",
        "print(\"      \")\n",
        "\n",
        "#Columns in DataFrame\n",
        "print( \"Number of column:\" , len(df.columns))\n",
        "\n",
        "print(\"      \")\n",
        "\n",
        "#Rows in DataFrame\n",
        "print(\"Number of row:\",df.count())"
      ]
    },
    {
      "cell_type": "code",
      "execution_count": 8,
      "metadata": {
        "id": "RnqOdzFn6efL",
        "colab": {
          "base_uri": "https://localhost:8080/"
        },
        "outputId": "c476160c-75d0-4009-bfc3-cbbb46fcfc0b"
      },
      "outputs": [
        {
          "output_type": "stream",
          "name": "stdout",
          "text": [
            "+-----------+------------+--------------+---------+---------------+---------+\n",
            "|mean_radius|mean_texture|mean_perimeter|mean_area|mean_smoothness|diagnosis|\n",
            "+-----------+------------+--------------+---------+---------------+---------+\n",
            "|      17.99|       10.38|         122.8|   1001.0|         0.1184|        0|\n",
            "|      20.57|       17.77|         132.9|   1326.0|        0.08474|        0|\n",
            "|      19.69|       21.25|         130.0|   1203.0|         0.1096|        0|\n",
            "|      11.42|       20.38|         77.58|    386.1|         0.1425|        0|\n",
            "|      20.29|       14.34|         135.1|   1297.0|         0.1003|        0|\n",
            "|      12.45|        15.7|         82.57|    477.1|         0.1278|        0|\n",
            "|      18.25|       19.98|         119.6|   1040.0|        0.09463|        0|\n",
            "|      13.71|       20.83|          90.2|    577.9|         0.1189|        0|\n",
            "|       13.0|       21.82|          87.5|    519.8|         0.1273|        0|\n",
            "|      12.46|       24.04|         83.97|    475.9|         0.1186|        0|\n",
            "|      16.02|       23.24|         102.7|    797.8|        0.08206|        0|\n",
            "|      15.78|       17.89|         103.6|    781.0|         0.0971|        0|\n",
            "|      19.17|        24.8|         132.4|   1123.0|         0.0974|        0|\n",
            "|      15.85|       23.95|         103.7|    782.7|        0.08401|        0|\n",
            "|      13.73|       22.61|          93.6|    578.3|         0.1131|        0|\n",
            "|      14.54|       27.54|         96.73|    658.8|         0.1139|        0|\n",
            "|      14.68|       20.13|         94.74|    684.5|        0.09867|        0|\n",
            "|      16.13|       20.68|         108.1|    798.8|          0.117|        0|\n",
            "|      19.81|       22.15|         130.0|   1260.0|        0.09831|        0|\n",
            "|      13.54|       14.36|         87.46|    566.3|        0.09779|        1|\n",
            "+-----------+------------+--------------+---------+---------------+---------+\n",
            "only showing top 20 rows\n",
            "\n"
          ]
        }
      ],
      "source": [
        "# Show dataset details\n",
        "spark.sql(\"select * from fb\").show()"
      ]
    },
    {
      "cell_type": "code",
      "execution_count": 9,
      "metadata": {
        "id": "-UaS7ZNi6g60",
        "colab": {
          "base_uri": "https://localhost:8080/"
        },
        "outputId": "ed1f001f-21e4-498c-d781-f0a5b5e68cd7"
      },
      "outputs": [
        {
          "output_type": "stream",
          "name": "stdout",
          "text": [
            "+--------+\n",
            "|count(1)|\n",
            "+--------+\n",
            "|     569|\n",
            "+--------+\n",
            "\n"
          ]
        }
      ],
      "source": [
        "spark.sql(\"select count(*) from fb\").show()"
      ]
    },
    {
      "cell_type": "code",
      "execution_count": 10,
      "metadata": {
        "id": "VaBbmdJp6i-8",
        "colab": {
          "base_uri": "https://localhost:8080/"
        },
        "outputId": "52b26149-35d1-4506-9085-8ccad1a90221"
      },
      "outputs": [
        {
          "output_type": "stream",
          "name": "stdout",
          "text": [
            "+-----------------+---------+\n",
            "| avg(mean_radius)|diagnosis|\n",
            "+-----------------+---------+\n",
            "|12.14652380952381|        1|\n",
            "|17.46283018867925|        0|\n",
            "+-----------------+---------+\n",
            "\n"
          ]
        }
      ],
      "source": [
        "# Show the average mean_radius of each diagnosis\n",
        "spark.sql(\"select avg(mean_radius), diagnosis from fb group by diagnosis\").show()"
      ]
    },
    {
      "cell_type": "code",
      "execution_count": 11,
      "metadata": {
        "id": "RKjg39A86tdW",
        "colab": {
          "base_uri": "https://localhost:8080/"
        },
        "outputId": "da0d0901-1d8a-40a8-e3a8-09ff44202d11"
      },
      "outputs": [
        {
          "output_type": "stream",
          "name": "stdout",
          "text": [
            "+-----------+------------+--------------+---------+---------------+---------+\n",
            "|mean_radius|mean_texture|mean_perimeter|mean_area|mean_smoothness|diagnosis|\n",
            "+-----------+------------+--------------+---------+---------------+---------+\n",
            "|17.99      |10.38       |122.8         |1001.0   |0.1184         |0        |\n",
            "|20.57      |17.77       |132.9         |1326.0   |0.08474        |0        |\n",
            "|19.69      |21.25       |130.0         |1203.0   |0.1096         |0        |\n",
            "|11.42      |20.38       |77.58         |386.1    |0.1425         |0        |\n",
            "|20.29      |14.34       |135.1         |1297.0   |0.1003         |0        |\n",
            "|12.45      |15.7        |82.57         |477.1    |0.1278         |0        |\n",
            "|18.25      |19.98       |119.6         |1040.0   |0.09463        |0        |\n",
            "|13.71      |20.83       |90.2          |577.9    |0.1189         |0        |\n",
            "|13.0       |21.82       |87.5          |519.8    |0.1273         |0        |\n",
            "|12.46      |24.04       |83.97         |475.9    |0.1186         |0        |\n",
            "|16.02      |23.24       |102.7         |797.8    |0.08206        |0        |\n",
            "|15.78      |17.89       |103.6         |781.0    |0.0971         |0        |\n",
            "|19.17      |24.8        |132.4         |1123.0   |0.0974         |0        |\n",
            "|15.85      |23.95       |103.7         |782.7    |0.08401        |0        |\n",
            "|13.73      |22.61       |93.6          |578.3    |0.1131         |0        |\n",
            "|14.54      |27.54       |96.73         |658.8    |0.1139         |0        |\n",
            "|14.68      |20.13       |94.74         |684.5    |0.09867        |0        |\n",
            "|16.13      |20.68       |108.1         |798.8    |0.117          |0        |\n",
            "|19.81      |22.15       |130.0         |1260.0   |0.09831        |0        |\n",
            "|13.54      |14.36       |87.46         |566.3    |0.09779        |1        |\n",
            "+-----------+------------+--------------+---------+---------------+---------+\n",
            "only showing top 20 rows\n",
            "\n"
          ]
        }
      ],
      "source": [
        "# Drop the rows with missing values \n",
        "df.na.drop(\"all\").show(truncate=False)"
      ]
    },
    {
      "cell_type": "code",
      "execution_count": 12,
      "metadata": {
        "id": "W0jG5i0Z7YoE",
        "colab": {
          "base_uri": "https://localhost:8080/"
        },
        "outputId": "42e0e005-260d-4534-d58e-c0d69a3b2b7e"
      },
      "outputs": [
        {
          "output_type": "execute_result",
          "data": {
            "text/plain": [
              "0.3237818909277333"
            ]
          },
          "metadata": {},
          "execution_count": 12
        }
      ],
      "source": [
        "# Correlation between two columns\n",
        "df.stat.corr(\"mean_texture\",\"mean_radius\")"
      ]
    },
    {
      "cell_type": "markdown",
      "metadata": {
        "id": "_v4fgcuc7oPT"
      },
      "source": [
        "# Data Preparation"
      ]
    },
    {
      "cell_type": "code",
      "execution_count": 13,
      "metadata": {
        "id": "PnCJUEGi8A5H",
        "colab": {
          "base_uri": "https://localhost:8080/"
        },
        "outputId": "157e63c2-e3a1-42d2-d9da-66164e8cdb4c"
      },
      "outputs": [
        {
          "output_type": "stream",
          "name": "stdout",
          "text": [
            "+-------+------------------+-----------------+-----------------+-----------------+--------------------+------------------+\n",
            "|summary|       mean_radius|     mean_texture|   mean_perimeter|        mean_area|     mean_smoothness|         diagnosis|\n",
            "+-------+------------------+-----------------+-----------------+-----------------+--------------------+------------------+\n",
            "|  count|               569|              569|              569|              569|                 569|               569|\n",
            "|   mean|14.127291739894563|19.28964850615117|91.96903339191566|654.8891036906857|   0.096360281195079|0.6274165202108963|\n",
            "| stddev|3.5240488262120793|4.301035768166948| 24.2989810387549|351.9141291816529|0.014064128137673616|0.4839179564031685|\n",
            "|    min|             6.981|             9.71|            43.79|            143.5|             0.05263|                 0|\n",
            "|    max|             28.11|            39.28|            188.5|           2501.0|              0.1634|                 1|\n",
            "+-------+------------------+-----------------+-----------------+-----------------+--------------------+------------------+\n",
            "\n"
          ]
        }
      ],
      "source": [
        "df.describe().show()"
      ]
    },
    {
      "cell_type": "code",
      "execution_count": 14,
      "metadata": {
        "id": "9yB2U4d97puk"
      },
      "outputs": [],
      "source": [
        "#Remove missing values\n",
        "dataDF_remove = df.na.drop()"
      ]
    },
    {
      "cell_type": "code",
      "execution_count": 15,
      "metadata": {
        "id": "8Js4o3Md7vvM",
        "colab": {
          "base_uri": "https://localhost:8080/"
        },
        "outputId": "93c5f94c-989a-41ec-c834-87004e517703"
      },
      "outputs": [
        {
          "output_type": "stream",
          "name": "stdout",
          "text": [
            "+-------+------------------+-----------------+-----------------+-----------------+--------------------+------------------+\n",
            "|summary|       mean_radius|     mean_texture|   mean_perimeter|        mean_area|     mean_smoothness|         diagnosis|\n",
            "+-------+------------------+-----------------+-----------------+-----------------+--------------------+------------------+\n",
            "|  count|               569|              569|              569|              569|                 569|               569|\n",
            "|   mean|14.127291739894563|19.28964850615117|91.96903339191566|654.8891036906857|   0.096360281195079|0.6274165202108963|\n",
            "| stddev|3.5240488262120793|4.301035768166948| 24.2989810387549|351.9141291816529|0.014064128137673616|0.4839179564031685|\n",
            "|    min|             6.981|             9.71|            43.79|            143.5|             0.05263|                 0|\n",
            "|    max|             28.11|            39.28|            188.5|           2501.0|              0.1634|                 1|\n",
            "+-------+------------------+-----------------+-----------------+-----------------+--------------------+------------------+\n",
            "\n"
          ]
        }
      ],
      "source": [
        "dataDF_remove.describe().show()"
      ]
    },
    {
      "cell_type": "markdown",
      "metadata": {
        "id": "LLDUBEju8Sqg"
      },
      "source": [
        "# Classification"
      ]
    },
    {
      "cell_type": "markdown",
      "metadata": {
        "id": "Ij9Dm_9W8XZz"
      },
      "source": [
        "# Features Column"
      ]
    },
    {
      "cell_type": "code",
      "execution_count": 16,
      "metadata": {
        "id": "ACM-i1Ax8T_1"
      },
      "outputs": [],
      "source": [
        "cols = ['mean_radius','mean_texture','mean_perimeter','mean_area','mean_smoothness','diagnosis']"
      ]
    },
    {
      "cell_type": "code",
      "execution_count": 17,
      "metadata": {
        "id": "swQ4KzsA8ra1",
        "colab": {
          "base_uri": "https://localhost:8080/"
        },
        "outputId": "22179246-3b6b-4494-ce15-4338eebbd35b"
      },
      "outputs": [
        {
          "output_type": "execute_result",
          "data": {
            "text/plain": [
              "(569, 6)"
            ]
          },
          "metadata": {},
          "execution_count": 17
        }
      ],
      "source": [
        "df = df.na.drop() # Spark drops rows with missing values\n",
        "df.count(), len(df.columns)"
      ]
    },
    {
      "cell_type": "code",
      "execution_count": 18,
      "metadata": {
        "id": "1sjOEMfLBPRF",
        "colab": {
          "base_uri": "https://localhost:8080/"
        },
        "outputId": "fc40f644-516f-4905-ea66-b1d47d235a9e"
      },
      "outputs": [
        {
          "output_type": "stream",
          "name": "stdout",
          "text": [
            "+-----------+-----+\n",
            "|mean_radius|lable|\n",
            "+-----------+-----+\n",
            "|      17.99|  0.0|\n",
            "|      20.57|  0.0|\n",
            "|      19.69|  0.0|\n",
            "|      11.42|  0.0|\n",
            "+-----------+-----+\n",
            "only showing top 4 rows\n",
            "\n"
          ]
        }
      ],
      "source": [
        "from pyspark.ml.feature import Binarizer\n",
        "\n",
        "binarizer = Binarizer(threshold=24.99999, inputCol=\"mean_radius\", outputCol=\"lable\")\n",
        "binarizedDataFrame = binarizer.transform(df)\n",
        "binarizedDataFrame.select(\"mean_radius\",\"lable\").show(4)"
      ]
    },
    {
      "cell_type": "code",
      "execution_count": 19,
      "metadata": {
        "id": "4Y6_bCJyBqWT"
      },
      "outputs": [],
      "source": [
        "from pyspark.ml.feature import VectorAssembler, StringIndexer, VectorIndexer\n",
        "\n",
        "assembler = VectorAssembler(inputCols=cols, outputCol=\"features\")\n",
        "assembled = assembler.transform(binarizedDataFrame)"
      ]
    },
    {
      "cell_type": "markdown",
      "metadata": {
        "id": "InwNCYngB-fy"
      },
      "source": [
        "# Test and Training Data"
      ]
    },
    {
      "cell_type": "code",
      "execution_count": 20,
      "metadata": {
        "id": "li3-1r8CCdz5"
      },
      "outputs": [],
      "source": [
        "from pyspark.sql import SQLContext\n",
        "from pyspark.sql import DataFrameNaFunctions\n",
        "from pyspark.ml import Pipeline\n",
        "from pyspark.ml.classification import DecisionTreeClassifier\n",
        "import pandas as pd"
      ]
    },
    {
      "cell_type": "code",
      "execution_count": 21,
      "metadata": {
        "id": "DNS9xYWhB9ww",
        "colab": {
          "base_uri": "https://localhost:8080/"
        },
        "outputId": "6665a55d-c8a3-4d7d-f863-2aa65d95eb5e"
      },
      "outputs": [
        {
          "output_type": "execute_result",
          "data": {
            "text/plain": [
              "(451, 118)"
            ]
          },
          "metadata": {},
          "execution_count": 21
        }
      ],
      "source": [
        "# Split the data into training and test sets (30% held out for testing)\n",
        "(trainingData, testData) = assembled.randomSplit([0.8,0.2], seed = 13234 )\n",
        "\n",
        "# Samples in each set:\n",
        "trainingData.count(), testData.count()"
      ]
    },
    {
      "cell_type": "markdown",
      "metadata": {
        "id": "QfFUp13KCEZn"
      },
      "source": [
        "## Decision Tree in Spark"
      ]
    },
    {
      "cell_type": "code",
      "execution_count": 22,
      "metadata": {
        "id": "6ug1Gw1fCFBb",
        "colab": {
          "base_uri": "https://localhost:8080/"
        },
        "outputId": "d6e62b29-73bb-44bf-c51e-580d4e68e062"
      },
      "outputs": [
        {
          "output_type": "stream",
          "name": "stdout",
          "text": [
            "+----------+-----+\n",
            "|prediction|lable|\n",
            "+----------+-----+\n",
            "|       0.0|  0.0|\n",
            "|       0.0|  0.0|\n",
            "|       0.0|  0.0|\n",
            "|       0.0|  0.0|\n",
            "|       0.0|  0.0|\n",
            "|       0.0|  0.0|\n",
            "|       0.0|  0.0|\n",
            "|       0.0|  0.0|\n",
            "|       0.0|  0.0|\n",
            "|       0.0|  0.0|\n",
            "+----------+-----+\n",
            "only showing top 10 rows\n",
            "\n"
          ]
        }
      ],
      "source": [
        "# Train a DecisionTree model.\n",
        "dt = DecisionTreeClassifier(labelCol=\"lable\", featuresCol=\"features\",\n",
        "                 maxDepth=5,  minInstancesPerNode=20, \n",
        "                impurity=\"gini\")\n",
        "\n",
        "# Pipeline\n",
        "pipeline = Pipeline(stages=[dt])\n",
        "\n",
        "# Train model.  This also runs the indexers.\n",
        "model = pipeline.fit(trainingData)\n",
        "\n",
        "# Make predictions.\n",
        "predictions = model.transform(testData)\n",
        "\n",
        "predictions.select(\"prediction\", \"lable\").show(10)"
      ]
    },
    {
      "cell_type": "code",
      "execution_count": 23,
      "metadata": {
        "id": "NtBZ2lQBCvIJ"
      },
      "outputs": [],
      "source": [
        "# write the predictions to a CSV for evaluation\n",
        "predictions.select(\"prediction\", \"lable\").toPandas().to_csv(\"predictions.csv\")"
      ]
    },
    {
      "cell_type": "markdown",
      "metadata": {
        "id": "i9eDpjq1C0ZX"
      },
      "source": [
        "# evaluation of ML models"
      ]
    },
    {
      "cell_type": "code",
      "execution_count": 24,
      "metadata": {
        "id": "PvUott5TC_bw"
      },
      "outputs": [],
      "source": [
        "from pyspark.sql import SQLContext\n",
        "from sklearn.metrics import confusion_matrix\n",
        "from pyspark import SparkContext"
      ]
    },
    {
      "cell_type": "markdown",
      "metadata": {
        "id": "4cFv3QP4DEUP"
      },
      "source": [
        "## The Accuracy of Decision Tree model"
      ]
    },
    {
      "cell_type": "code",
      "source": [
        "from pyspark.sql import SQLContext, Row, SparkSession\n",
        "spark = SparkSession.builder.getOrCreate()\n",
        "sc = spark.sparkContext"
      ],
      "metadata": {
        "id": "CoHZd2dOHy_8"
      },
      "execution_count": 25,
      "outputs": []
    },
    {
      "cell_type": "code",
      "execution_count": 26,
      "metadata": {
        "id": "h5dDO-CuDRFt"
      },
      "outputs": [],
      "source": [
        "# Read the predictions CSV file\n",
        "sqlContext = SQLContext(sc)\n",
        "predictions = sqlContext.read.load('/content/predictions.csv', \n",
        "                          format='com.databricks.spark.csv', \n",
        "                          header='true',inferSchema='true')"
      ]
    },
    {
      "cell_type": "code",
      "execution_count": 27,
      "metadata": {
        "id": "5Oq_F_MZEoU4",
        "colab": {
          "base_uri": "https://localhost:8080/"
        },
        "outputId": "d90d8e1a-290a-40a0-8c5a-acd405752c4f"
      },
      "outputs": [
        {
          "output_type": "stream",
          "name": "stdout",
          "text": [
            "Test Error = 0.00847458 \n",
            "Accuracy = 0.991525 \n"
          ]
        }
      ],
      "source": [
        "from pyspark.ml.evaluation import MulticlassClassificationEvaluator\n",
        "\n",
        "# Select (prediction, true label) and compute test error\n",
        "evaluator = MulticlassClassificationEvaluator(\n",
        "    labelCol=\"lable\", predictionCol=\"prediction\", metricName=\"accuracy\")\n",
        "accuracy = evaluator.evaluate(predictions)\n",
        "print(\"Test Error = %g \" % (1.0 - accuracy))\n",
        "print(\"Accuracy = %g \" % (accuracy))"
      ]
    },
    {
      "cell_type": "code",
      "execution_count": 28,
      "metadata": {
        "id": "XXYm3s-bI1st",
        "colab": {
          "base_uri": "https://localhost:8080/"
        },
        "outputId": "90c73f0d-df22-4f85-a58f-293962291f8b"
      },
      "outputs": [
        {
          "output_type": "execute_result",
          "data": {
            "text/plain": [
              "array([[117,   1],\n",
              "       [  0,   0]])"
            ]
          },
          "metadata": {},
          "execution_count": 28
        }
      ],
      "source": [
        "confusion_matrix(predictions.select('prediction').toPandas(), predictions.select('lable').toPandas())"
      ]
    },
    {
      "cell_type": "markdown",
      "metadata": {
        "id": "WkNbsw99J3mH"
      },
      "source": [
        "# Clustering"
      ]
    },
    {
      "cell_type": "code",
      "execution_count": 29,
      "metadata": {
        "id": "sgd0mDsxJ6bW"
      },
      "outputs": [],
      "source": [
        "from pyspark.sql import SQLContext\n",
        "from pyspark.sql import DataFrameNaFunctions\n",
        "import pandas as pd\n",
        "from pyspark.ml.clustering import KMeans\n",
        "%matplotlib inline\n",
        "import matplotlib.pyplot as plt"
      ]
    },
    {
      "cell_type": "code",
      "execution_count": 30,
      "metadata": {
        "id": "dmVCCpMtUdEq"
      },
      "outputs": [],
      "source": [
        "df = pd.read_csv(\"/content/Breast_cancer_data.csv\")"
      ]
    },
    {
      "cell_type": "code",
      "execution_count": 31,
      "metadata": {
        "id": "f9Aj1sfsLI4t",
        "colab": {
          "base_uri": "https://localhost:8080/",
          "height": 0
        },
        "outputId": "c48599a3-15f5-41a7-d0d0-6082155cd970"
      },
      "outputs": [
        {
          "output_type": "execute_result",
          "data": {
            "text/plain": [
              "     mean_radius  mean_texture  mean_perimeter  mean_area  mean_smoothness  \\\n",
              "0          17.99         10.38          122.80     1001.0          0.11840   \n",
              "1          20.57         17.77          132.90     1326.0          0.08474   \n",
              "2          19.69         21.25          130.00     1203.0          0.10960   \n",
              "3          11.42         20.38           77.58      386.1          0.14250   \n",
              "4          20.29         14.34          135.10     1297.0          0.10030   \n",
              "..           ...           ...             ...        ...              ...   \n",
              "564        21.56         22.39          142.00     1479.0          0.11100   \n",
              "565        20.13         28.25          131.20     1261.0          0.09780   \n",
              "566        16.60         28.08          108.30      858.1          0.08455   \n",
              "567        20.60         29.33          140.10     1265.0          0.11780   \n",
              "568         7.76         24.54           47.92      181.0          0.05263   \n",
              "\n",
              "     diagnosis   id  \n",
              "0            0    1  \n",
              "1            0    2  \n",
              "2            0    3  \n",
              "3            0    4  \n",
              "4            0    5  \n",
              "..         ...  ...  \n",
              "564          0  565  \n",
              "565          0  566  \n",
              "566          0  567  \n",
              "567          0  568  \n",
              "568          1  569  \n",
              "\n",
              "[569 rows x 7 columns]"
            ],
            "text/html": [
              "\n",
              "  <div id=\"df-0a902f59-da34-422e-afbc-452f8f61a0f8\">\n",
              "    <div class=\"colab-df-container\">\n",
              "      <div>\n",
              "<style scoped>\n",
              "    .dataframe tbody tr th:only-of-type {\n",
              "        vertical-align: middle;\n",
              "    }\n",
              "\n",
              "    .dataframe tbody tr th {\n",
              "        vertical-align: top;\n",
              "    }\n",
              "\n",
              "    .dataframe thead th {\n",
              "        text-align: right;\n",
              "    }\n",
              "</style>\n",
              "<table border=\"1\" class=\"dataframe\">\n",
              "  <thead>\n",
              "    <tr style=\"text-align: right;\">\n",
              "      <th></th>\n",
              "      <th>mean_radius</th>\n",
              "      <th>mean_texture</th>\n",
              "      <th>mean_perimeter</th>\n",
              "      <th>mean_area</th>\n",
              "      <th>mean_smoothness</th>\n",
              "      <th>diagnosis</th>\n",
              "      <th>id</th>\n",
              "    </tr>\n",
              "  </thead>\n",
              "  <tbody>\n",
              "    <tr>\n",
              "      <th>0</th>\n",
              "      <td>17.99</td>\n",
              "      <td>10.38</td>\n",
              "      <td>122.80</td>\n",
              "      <td>1001.0</td>\n",
              "      <td>0.11840</td>\n",
              "      <td>0</td>\n",
              "      <td>1</td>\n",
              "    </tr>\n",
              "    <tr>\n",
              "      <th>1</th>\n",
              "      <td>20.57</td>\n",
              "      <td>17.77</td>\n",
              "      <td>132.90</td>\n",
              "      <td>1326.0</td>\n",
              "      <td>0.08474</td>\n",
              "      <td>0</td>\n",
              "      <td>2</td>\n",
              "    </tr>\n",
              "    <tr>\n",
              "      <th>2</th>\n",
              "      <td>19.69</td>\n",
              "      <td>21.25</td>\n",
              "      <td>130.00</td>\n",
              "      <td>1203.0</td>\n",
              "      <td>0.10960</td>\n",
              "      <td>0</td>\n",
              "      <td>3</td>\n",
              "    </tr>\n",
              "    <tr>\n",
              "      <th>3</th>\n",
              "      <td>11.42</td>\n",
              "      <td>20.38</td>\n",
              "      <td>77.58</td>\n",
              "      <td>386.1</td>\n",
              "      <td>0.14250</td>\n",
              "      <td>0</td>\n",
              "      <td>4</td>\n",
              "    </tr>\n",
              "    <tr>\n",
              "      <th>4</th>\n",
              "      <td>20.29</td>\n",
              "      <td>14.34</td>\n",
              "      <td>135.10</td>\n",
              "      <td>1297.0</td>\n",
              "      <td>0.10030</td>\n",
              "      <td>0</td>\n",
              "      <td>5</td>\n",
              "    </tr>\n",
              "    <tr>\n",
              "      <th>...</th>\n",
              "      <td>...</td>\n",
              "      <td>...</td>\n",
              "      <td>...</td>\n",
              "      <td>...</td>\n",
              "      <td>...</td>\n",
              "      <td>...</td>\n",
              "      <td>...</td>\n",
              "    </tr>\n",
              "    <tr>\n",
              "      <th>564</th>\n",
              "      <td>21.56</td>\n",
              "      <td>22.39</td>\n",
              "      <td>142.00</td>\n",
              "      <td>1479.0</td>\n",
              "      <td>0.11100</td>\n",
              "      <td>0</td>\n",
              "      <td>565</td>\n",
              "    </tr>\n",
              "    <tr>\n",
              "      <th>565</th>\n",
              "      <td>20.13</td>\n",
              "      <td>28.25</td>\n",
              "      <td>131.20</td>\n",
              "      <td>1261.0</td>\n",
              "      <td>0.09780</td>\n",
              "      <td>0</td>\n",
              "      <td>566</td>\n",
              "    </tr>\n",
              "    <tr>\n",
              "      <th>566</th>\n",
              "      <td>16.60</td>\n",
              "      <td>28.08</td>\n",
              "      <td>108.30</td>\n",
              "      <td>858.1</td>\n",
              "      <td>0.08455</td>\n",
              "      <td>0</td>\n",
              "      <td>567</td>\n",
              "    </tr>\n",
              "    <tr>\n",
              "      <th>567</th>\n",
              "      <td>20.60</td>\n",
              "      <td>29.33</td>\n",
              "      <td>140.10</td>\n",
              "      <td>1265.0</td>\n",
              "      <td>0.11780</td>\n",
              "      <td>0</td>\n",
              "      <td>568</td>\n",
              "    </tr>\n",
              "    <tr>\n",
              "      <th>568</th>\n",
              "      <td>7.76</td>\n",
              "      <td>24.54</td>\n",
              "      <td>47.92</td>\n",
              "      <td>181.0</td>\n",
              "      <td>0.05263</td>\n",
              "      <td>1</td>\n",
              "      <td>569</td>\n",
              "    </tr>\n",
              "  </tbody>\n",
              "</table>\n",
              "<p>569 rows × 7 columns</p>\n",
              "</div>\n",
              "      <button class=\"colab-df-convert\" onclick=\"convertToInteractive('df-0a902f59-da34-422e-afbc-452f8f61a0f8')\"\n",
              "              title=\"Convert this dataframe to an interactive table.\"\n",
              "              style=\"display:none;\">\n",
              "        \n",
              "  <svg xmlns=\"http://www.w3.org/2000/svg\" height=\"24px\"viewBox=\"0 0 24 24\"\n",
              "       width=\"24px\">\n",
              "    <path d=\"M0 0h24v24H0V0z\" fill=\"none\"/>\n",
              "    <path d=\"M18.56 5.44l.94 2.06.94-2.06 2.06-.94-2.06-.94-.94-2.06-.94 2.06-2.06.94zm-11 1L8.5 8.5l.94-2.06 2.06-.94-2.06-.94L8.5 2.5l-.94 2.06-2.06.94zm10 10l.94 2.06.94-2.06 2.06-.94-2.06-.94-.94-2.06-.94 2.06-2.06.94z\"/><path d=\"M17.41 7.96l-1.37-1.37c-.4-.4-.92-.59-1.43-.59-.52 0-1.04.2-1.43.59L10.3 9.45l-7.72 7.72c-.78.78-.78 2.05 0 2.83L4 21.41c.39.39.9.59 1.41.59.51 0 1.02-.2 1.41-.59l7.78-7.78 2.81-2.81c.8-.78.8-2.07 0-2.86zM5.41 20L4 18.59l7.72-7.72 1.47 1.35L5.41 20z\"/>\n",
              "  </svg>\n",
              "      </button>\n",
              "      \n",
              "  <style>\n",
              "    .colab-df-container {\n",
              "      display:flex;\n",
              "      flex-wrap:wrap;\n",
              "      gap: 12px;\n",
              "    }\n",
              "\n",
              "    .colab-df-convert {\n",
              "      background-color: #E8F0FE;\n",
              "      border: none;\n",
              "      border-radius: 50%;\n",
              "      cursor: pointer;\n",
              "      display: none;\n",
              "      fill: #1967D2;\n",
              "      height: 32px;\n",
              "      padding: 0 0 0 0;\n",
              "      width: 32px;\n",
              "    }\n",
              "\n",
              "    .colab-df-convert:hover {\n",
              "      background-color: #E2EBFA;\n",
              "      box-shadow: 0px 1px 2px rgba(60, 64, 67, 0.3), 0px 1px 3px 1px rgba(60, 64, 67, 0.15);\n",
              "      fill: #174EA6;\n",
              "    }\n",
              "\n",
              "    [theme=dark] .colab-df-convert {\n",
              "      background-color: #3B4455;\n",
              "      fill: #D2E3FC;\n",
              "    }\n",
              "\n",
              "    [theme=dark] .colab-df-convert:hover {\n",
              "      background-color: #434B5C;\n",
              "      box-shadow: 0px 1px 3px 1px rgba(0, 0, 0, 0.15);\n",
              "      filter: drop-shadow(0px 1px 2px rgba(0, 0, 0, 0.3));\n",
              "      fill: #FFFFFF;\n",
              "    }\n",
              "  </style>\n",
              "\n",
              "      <script>\n",
              "        const buttonEl =\n",
              "          document.querySelector('#df-0a902f59-da34-422e-afbc-452f8f61a0f8 button.colab-df-convert');\n",
              "        buttonEl.style.display =\n",
              "          google.colab.kernel.accessAllowed ? 'block' : 'none';\n",
              "\n",
              "        async function convertToInteractive(key) {\n",
              "          const element = document.querySelector('#df-0a902f59-da34-422e-afbc-452f8f61a0f8');\n",
              "          const dataTable =\n",
              "            await google.colab.kernel.invokeFunction('convertToInteractive',\n",
              "                                                     [key], {});\n",
              "          if (!dataTable) return;\n",
              "\n",
              "          const docLinkHtml = 'Like what you see? Visit the ' +\n",
              "            '<a target=\"_blank\" href=https://colab.research.google.com/notebooks/data_table.ipynb>data table notebook</a>'\n",
              "            + ' to learn more about interactive tables.';\n",
              "          element.innerHTML = '';\n",
              "          dataTable['output_type'] = 'display_data';\n",
              "          await google.colab.output.renderOutput(dataTable, element);\n",
              "          const docLink = document.createElement('div');\n",
              "          docLink.innerHTML = docLinkHtml;\n",
              "          element.appendChild(docLink);\n",
              "        }\n",
              "      </script>\n",
              "    </div>\n",
              "  </div>\n",
              "  "
            ]
          },
          "metadata": {},
          "execution_count": 31
        }
      ],
      "source": [
        "df[\"id\"] = df.index + 1\n",
        "\n",
        "df"
      ]
    },
    {
      "cell_type": "code",
      "execution_count": 32,
      "metadata": {
        "id": "2x--GUsQUze4"
      },
      "outputs": [],
      "source": [
        "df.to_csv('breastCancerData.csv')"
      ]
    },
    {
      "cell_type": "code",
      "execution_count": 33,
      "metadata": {
        "id": "wUNciBNCSRTK"
      },
      "outputs": [],
      "source": [
        "sqlContext = SQLContext(sc)"
      ]
    },
    {
      "cell_type": "code",
      "execution_count": 34,
      "metadata": {
        "id": "kZRViTdlRAUD"
      },
      "outputs": [],
      "source": [
        "df = sqlContext.read.load('/content/breastCancerData.csv', \n",
        "                          format='com.databricks.spark.csv', \n",
        "                          header='true',inferSchema='true')"
      ]
    },
    {
      "cell_type": "code",
      "execution_count": 35,
      "metadata": {
        "id": "dOa74jDbSZXI",
        "colab": {
          "base_uri": "https://localhost:8080/",
          "height": 0
        },
        "outputId": "9da5c7be-9a3b-4ec2-efc6-e9b5eaf9bab6"
      },
      "outputs": [
        {
          "output_type": "execute_result",
          "data": {
            "text/plain": [
              "                     0                   1                     2        3  \\\n",
              "summary          count                mean                stddev      min   \n",
              "_c0                569               284.0    164.40042579020286        0   \n",
              "mean_radius        569  14.127291739894563    3.5240488262120793    6.981   \n",
              "mean_texture       569   19.28964850615117     4.301035768166948     9.71   \n",
              "mean_perimeter     569   91.96903339191566      24.2989810387549    43.79   \n",
              "mean_area          569   654.8891036906857     351.9141291816529    143.5   \n",
              "mean_smoothness    569   0.096360281195079  0.014064128137673616  0.05263   \n",
              "diagnosis          569  0.6274165202108963    0.4839179564031685        0   \n",
              "id                 569               285.0    164.40042579020286        1   \n",
              "\n",
              "                      4  \n",
              "summary             max  \n",
              "_c0                 568  \n",
              "mean_radius       28.11  \n",
              "mean_texture      39.28  \n",
              "mean_perimeter    188.5  \n",
              "mean_area        2501.0  \n",
              "mean_smoothness  0.1634  \n",
              "diagnosis             1  \n",
              "id                  569  "
            ],
            "text/html": [
              "\n",
              "  <div id=\"df-c1f22fc3-b527-4e58-b6f6-7471f37dc119\">\n",
              "    <div class=\"colab-df-container\">\n",
              "      <div>\n",
              "<style scoped>\n",
              "    .dataframe tbody tr th:only-of-type {\n",
              "        vertical-align: middle;\n",
              "    }\n",
              "\n",
              "    .dataframe tbody tr th {\n",
              "        vertical-align: top;\n",
              "    }\n",
              "\n",
              "    .dataframe thead th {\n",
              "        text-align: right;\n",
              "    }\n",
              "</style>\n",
              "<table border=\"1\" class=\"dataframe\">\n",
              "  <thead>\n",
              "    <tr style=\"text-align: right;\">\n",
              "      <th></th>\n",
              "      <th>0</th>\n",
              "      <th>1</th>\n",
              "      <th>2</th>\n",
              "      <th>3</th>\n",
              "      <th>4</th>\n",
              "    </tr>\n",
              "  </thead>\n",
              "  <tbody>\n",
              "    <tr>\n",
              "      <th>summary</th>\n",
              "      <td>count</td>\n",
              "      <td>mean</td>\n",
              "      <td>stddev</td>\n",
              "      <td>min</td>\n",
              "      <td>max</td>\n",
              "    </tr>\n",
              "    <tr>\n",
              "      <th>_c0</th>\n",
              "      <td>569</td>\n",
              "      <td>284.0</td>\n",
              "      <td>164.40042579020286</td>\n",
              "      <td>0</td>\n",
              "      <td>568</td>\n",
              "    </tr>\n",
              "    <tr>\n",
              "      <th>mean_radius</th>\n",
              "      <td>569</td>\n",
              "      <td>14.127291739894563</td>\n",
              "      <td>3.5240488262120793</td>\n",
              "      <td>6.981</td>\n",
              "      <td>28.11</td>\n",
              "    </tr>\n",
              "    <tr>\n",
              "      <th>mean_texture</th>\n",
              "      <td>569</td>\n",
              "      <td>19.28964850615117</td>\n",
              "      <td>4.301035768166948</td>\n",
              "      <td>9.71</td>\n",
              "      <td>39.28</td>\n",
              "    </tr>\n",
              "    <tr>\n",
              "      <th>mean_perimeter</th>\n",
              "      <td>569</td>\n",
              "      <td>91.96903339191566</td>\n",
              "      <td>24.2989810387549</td>\n",
              "      <td>43.79</td>\n",
              "      <td>188.5</td>\n",
              "    </tr>\n",
              "    <tr>\n",
              "      <th>mean_area</th>\n",
              "      <td>569</td>\n",
              "      <td>654.8891036906857</td>\n",
              "      <td>351.9141291816529</td>\n",
              "      <td>143.5</td>\n",
              "      <td>2501.0</td>\n",
              "    </tr>\n",
              "    <tr>\n",
              "      <th>mean_smoothness</th>\n",
              "      <td>569</td>\n",
              "      <td>0.096360281195079</td>\n",
              "      <td>0.014064128137673616</td>\n",
              "      <td>0.05263</td>\n",
              "      <td>0.1634</td>\n",
              "    </tr>\n",
              "    <tr>\n",
              "      <th>diagnosis</th>\n",
              "      <td>569</td>\n",
              "      <td>0.6274165202108963</td>\n",
              "      <td>0.4839179564031685</td>\n",
              "      <td>0</td>\n",
              "      <td>1</td>\n",
              "    </tr>\n",
              "    <tr>\n",
              "      <th>id</th>\n",
              "      <td>569</td>\n",
              "      <td>285.0</td>\n",
              "      <td>164.40042579020286</td>\n",
              "      <td>1</td>\n",
              "      <td>569</td>\n",
              "    </tr>\n",
              "  </tbody>\n",
              "</table>\n",
              "</div>\n",
              "      <button class=\"colab-df-convert\" onclick=\"convertToInteractive('df-c1f22fc3-b527-4e58-b6f6-7471f37dc119')\"\n",
              "              title=\"Convert this dataframe to an interactive table.\"\n",
              "              style=\"display:none;\">\n",
              "        \n",
              "  <svg xmlns=\"http://www.w3.org/2000/svg\" height=\"24px\"viewBox=\"0 0 24 24\"\n",
              "       width=\"24px\">\n",
              "    <path d=\"M0 0h24v24H0V0z\" fill=\"none\"/>\n",
              "    <path d=\"M18.56 5.44l.94 2.06.94-2.06 2.06-.94-2.06-.94-.94-2.06-.94 2.06-2.06.94zm-11 1L8.5 8.5l.94-2.06 2.06-.94-2.06-.94L8.5 2.5l-.94 2.06-2.06.94zm10 10l.94 2.06.94-2.06 2.06-.94-2.06-.94-.94-2.06-.94 2.06-2.06.94z\"/><path d=\"M17.41 7.96l-1.37-1.37c-.4-.4-.92-.59-1.43-.59-.52 0-1.04.2-1.43.59L10.3 9.45l-7.72 7.72c-.78.78-.78 2.05 0 2.83L4 21.41c.39.39.9.59 1.41.59.51 0 1.02-.2 1.41-.59l7.78-7.78 2.81-2.81c.8-.78.8-2.07 0-2.86zM5.41 20L4 18.59l7.72-7.72 1.47 1.35L5.41 20z\"/>\n",
              "  </svg>\n",
              "      </button>\n",
              "      \n",
              "  <style>\n",
              "    .colab-df-container {\n",
              "      display:flex;\n",
              "      flex-wrap:wrap;\n",
              "      gap: 12px;\n",
              "    }\n",
              "\n",
              "    .colab-df-convert {\n",
              "      background-color: #E8F0FE;\n",
              "      border: none;\n",
              "      border-radius: 50%;\n",
              "      cursor: pointer;\n",
              "      display: none;\n",
              "      fill: #1967D2;\n",
              "      height: 32px;\n",
              "      padding: 0 0 0 0;\n",
              "      width: 32px;\n",
              "    }\n",
              "\n",
              "    .colab-df-convert:hover {\n",
              "      background-color: #E2EBFA;\n",
              "      box-shadow: 0px 1px 2px rgba(60, 64, 67, 0.3), 0px 1px 3px 1px rgba(60, 64, 67, 0.15);\n",
              "      fill: #174EA6;\n",
              "    }\n",
              "\n",
              "    [theme=dark] .colab-df-convert {\n",
              "      background-color: #3B4455;\n",
              "      fill: #D2E3FC;\n",
              "    }\n",
              "\n",
              "    [theme=dark] .colab-df-convert:hover {\n",
              "      background-color: #434B5C;\n",
              "      box-shadow: 0px 1px 3px 1px rgba(0, 0, 0, 0.15);\n",
              "      filter: drop-shadow(0px 1px 2px rgba(0, 0, 0, 0.3));\n",
              "      fill: #FFFFFF;\n",
              "    }\n",
              "  </style>\n",
              "\n",
              "      <script>\n",
              "        const buttonEl =\n",
              "          document.querySelector('#df-c1f22fc3-b527-4e58-b6f6-7471f37dc119 button.colab-df-convert');\n",
              "        buttonEl.style.display =\n",
              "          google.colab.kernel.accessAllowed ? 'block' : 'none';\n",
              "\n",
              "        async function convertToInteractive(key) {\n",
              "          const element = document.querySelector('#df-c1f22fc3-b527-4e58-b6f6-7471f37dc119');\n",
              "          const dataTable =\n",
              "            await google.colab.kernel.invokeFunction('convertToInteractive',\n",
              "                                                     [key], {});\n",
              "          if (!dataTable) return;\n",
              "\n",
              "          const docLinkHtml = 'Like what you see? Visit the ' +\n",
              "            '<a target=\"_blank\" href=https://colab.research.google.com/notebooks/data_table.ipynb>data table notebook</a>'\n",
              "            + ' to learn more about interactive tables.';\n",
              "          element.innerHTML = '';\n",
              "          dataTable['output_type'] = 'display_data';\n",
              "          await google.colab.output.renderOutput(dataTable, element);\n",
              "          const docLink = document.createElement('div');\n",
              "          docLink.innerHTML = docLinkHtml;\n",
              "          element.appendChild(docLink);\n",
              "        }\n",
              "      </script>\n",
              "    </div>\n",
              "  </div>\n",
              "  "
            ]
          },
          "metadata": {},
          "execution_count": 35
        }
      ],
      "source": [
        "df.describe().toPandas().transpose()"
      ]
    },
    {
      "cell_type": "code",
      "execution_count": 36,
      "metadata": {
        "id": "X_MxUB2KSfnx",
        "colab": {
          "base_uri": "https://localhost:8080/"
        },
        "outputId": "3113a51b-2204-4a4f-c6ef-ffefb1f4a006"
      },
      "outputs": [
        {
          "output_type": "execute_result",
          "data": {
            "text/plain": [
              "569"
            ]
          },
          "metadata": {},
          "execution_count": 36
        }
      ],
      "source": [
        "df.count()"
      ]
    },
    {
      "cell_type": "code",
      "execution_count": 37,
      "metadata": {
        "id": "jkyNB2CfLPKo",
        "colab": {
          "base_uri": "https://localhost:8080/"
        },
        "outputId": "43940e64-44d7-4b8f-ddb9-2e0ae1c7f922"
      },
      "outputs": [
        {
          "output_type": "execute_result",
          "data": {
            "text/plain": [
              "57"
            ]
          },
          "metadata": {},
          "execution_count": 37
        }
      ],
      "source": [
        "#Re-sample to take every 10th value \n",
        "filtered = df.filter((df._c0 % 10) == 0)\n",
        "T=filtered.count()\n",
        "T"
      ]
    },
    {
      "cell_type": "code",
      "execution_count": 38,
      "metadata": {
        "id": "j9ihtu2cWuj4"
      },
      "outputs": [],
      "source": [
        "cols = ['_c0','mean_radius','mean_texture','mean_perimeter','mean_area','mean_smoothness','diagnosis','id']"
      ]
    },
    {
      "cell_type": "code",
      "execution_count": 39,
      "metadata": {
        "id": "_Tbd3TnlWc3Z"
      },
      "outputs": [],
      "source": [
        "# ASSEMBLE all the features.\n",
        "from pyspark.ml.feature import VectorAssembler\n",
        "assembler = VectorAssembler(inputCols=cols, outputCol=\"features_pre\")\n",
        "assembled = assembler.transform(df)"
      ]
    },
    {
      "cell_type": "code",
      "execution_count": 40,
      "metadata": {
        "id": "9YBL9hNTYGQD"
      },
      "outputs": [],
      "source": [
        "# SCALE the dataset.\n",
        "from pyspark.ml.feature import StandardScaler\n",
        "scaler = StandardScaler(inputCol=\"features_pre\", outputCol=\"features\",withStd=True, withMean=True)\n",
        "# Fit the StandardScaler\n",
        "scalerModel = scaler.fit(assembled)\n",
        "# Normalize each feature\n",
        "scaledData = scalerModel.transform(assembled)"
      ]
    },
    {
      "cell_type": "markdown",
      "metadata": {
        "id": "McTo0se_YOpw"
      },
      "source": [
        "# Clustering using selected k"
      ]
    },
    {
      "cell_type": "code",
      "execution_count": 41,
      "metadata": {
        "id": "n5AspHLgYQ_h"
      },
      "outputs": [],
      "source": [
        "# Keep features and leave other columns\n",
        "scaledData = scaledData.select(\"features\", \"_c0\")"
      ]
    },
    {
      "cell_type": "code",
      "execution_count": 42,
      "metadata": {
        "id": "XGLpcLpiZmC5",
        "colab": {
          "base_uri": "https://localhost:8080/"
        },
        "outputId": "5a946671-07b1-4003-c03d-67c965515833"
      },
      "outputs": [
        {
          "output_type": "stream",
          "name": "stdout",
          "text": [
            "+---+--------------------+\n",
            "|_c0|            features|\n",
            "+---+--------------------+\n",
            "|  0|[0.0,17.99,10.38,...|\n",
            "|  1|[1.0,20.57,17.77,...|\n",
            "|  2|[2.0,19.69,21.25,...|\n",
            "|  3|[3.0,11.42,20.38,...|\n",
            "|  4|[4.0,20.29,14.34,...|\n",
            "|  5|[5.0,12.45,15.7,8...|\n",
            "|  6|[6.0,18.25,19.98,...|\n",
            "|  7|[7.0,13.71,20.83,...|\n",
            "|  8|[8.0,13.0,21.82,8...|\n",
            "|  9|[9.0,12.46,24.04,...|\n",
            "| 10|[10.0,16.02,23.24...|\n",
            "| 11|[11.0,15.78,17.89...|\n",
            "| 12|[12.0,19.17,24.8,...|\n",
            "| 13|[13.0,15.85,23.95...|\n",
            "| 14|[14.0,13.73,22.61...|\n",
            "| 15|[15.0,14.54,27.54...|\n",
            "| 16|[16.0,14.68,20.13...|\n",
            "| 17|[17.0,16.13,20.68...|\n",
            "| 18|[18.0,19.81,22.15...|\n",
            "| 19|[19.0,13.54,14.36...|\n",
            "+---+--------------------+\n",
            "only showing top 20 rows\n",
            "\n"
          ]
        }
      ],
      "source": [
        "vecAssembler = VectorAssembler(inputCols=cols, outputCol=\"features\")\n",
        "df_kmeans = vecAssembler.transform(df).select('_c0', 'features')\n",
        "df_kmeans.show()"
      ]
    },
    {
      "cell_type": "code",
      "execution_count": 43,
      "metadata": {
        "id": "-2gy0YWnZslo"
      },
      "outputs": [],
      "source": [
        "# from pyspark.ml.clustering import KMeans\n",
        "# from pyspark.ml.evaluation import ClusteringEvaluator\n",
        "\n",
        "# # Make predictions\n",
        "# predictions = model.transform(df_kmeans)\n",
        "\n",
        "# # Evaluate clustering by computing Silhouette score\n",
        "# evaluator = ClusteringEvaluator()\n",
        "\n",
        "# silhouette = evaluator.evaluate(predictions)\n",
        "# print(\"Silhouette with squared euclidean distance = \" + str(silhouette))"
      ]
    },
    {
      "cell_type": "code",
      "execution_count": 44,
      "metadata": {
        "id": "X2aHILw3Zx84",
        "colab": {
          "base_uri": "https://localhost:8080/"
        },
        "outputId": "cbbd4fb5-444e-4866-8c75-6f8dff4532f4"
      },
      "outputs": [
        {
          "output_type": "stream",
          "name": "stdout",
          "text": [
            "Cluster Centers: \n",
            "[1.44551724e+02 1.43102299e+01 1.93522989e+01 9.34775862e+01\n",
            " 6.34198851e+02 9.84540230e-02 4.59770115e-01 1.45551724e+02]\n",
            "[2.94166667e+02 2.34725000e+01 2.20075000e+01 1.57041667e+02\n",
            " 1.70658333e+03 1.04745833e-01 0.00000000e+00 2.95166667e+02]\n",
            "[4.41472222e+02 1.93936111e+01 2.16386111e+01 1.28066667e+02\n",
            " 1.16972778e+03 1.01252778e-01 2.77777778e-02 4.42472222e+02]\n",
            "[1.07626506e+02 1.11843012e+01 1.73863855e+01 7.20185542e+01\n",
            " 3.89615663e+02 9.99889157e-02 8.55421687e-01 1.08626506e+02]\n",
            "[1.67657143e+02 1.99025714e+01 2.26045714e+01 1.31611429e+02\n",
            " 1.23625714e+03 9.98411429e-02 0.00000000e+00 1.68657143e+02]\n",
            "[1.13333333e+02 1.74424444e+01 2.09391111e+01 1.14655556e+02\n",
            " 9.48824444e+02 9.82835556e-02 2.22222222e-02 1.14333333e+02]\n",
            "[2.84333333e+02 2.75833333e+01 2.22033333e+01 1.85833333e+02\n",
            " 2.41666667e+03 1.10666667e-01 0.00000000e+00 2.85333333e+02]\n",
            "[4.8668750e+02 1.1039425e+01 1.9567375e+01 7.0830500e+01 3.7722625e+02\n",
            " 9.5172625e-02 1.0000000e+00 4.8768750e+02]\n",
            "[4.43471910e+02 1.43680899e+01 1.93540449e+01 9.32560674e+01\n",
            " 6.41085393e+02 9.18691011e-02 7.64044944e-01 4.44471910e+02]\n",
            "[3.07464646e+02 1.17084646e+01 1.73543434e+01 7.51086869e+01\n",
            " 4.25035354e+02 9.11415152e-02 9.69696970e-01 3.08464646e+02]\n"
          ]
        }
      ],
      "source": [
        "# Train the machine learning model\n",
        "k = 10\n",
        "kmeans = KMeans().setK(k).setSeed(1).setFeaturesCol(\"features\")\n",
        "model = kmeans.fit(df_kmeans)\n",
        "centers = model.clusterCenters()\n",
        "\n",
        "print(\"Cluster Centers: \")\n",
        "for center in centers:\n",
        "    print(center)"
      ]
    },
    {
      "cell_type": "code",
      "execution_count": 45,
      "metadata": {
        "id": "zJwwj22LZ2PA",
        "colab": {
          "base_uri": "https://localhost:8080/"
        },
        "outputId": "188497f2-3a37-464b-db65-d2369f450c9b"
      },
      "outputs": [
        {
          "output_type": "stream",
          "name": "stdout",
          "text": [
            "[Row(_c0=0, prediction=5), Row(_c0=1, prediction=4), Row(_c0=2, prediction=4)]\n"
          ]
        }
      ],
      "source": [
        "# Assign clusters to events\n",
        "transformed = model.transform(df_kmeans).select('_c0', 'prediction')\n",
        "rows = transformed.collect()\n",
        "print(rows[:3])"
      ]
    },
    {
      "cell_type": "code",
      "execution_count": 46,
      "metadata": {
        "id": "A5aRNLadZ-cg",
        "colab": {
          "base_uri": "https://localhost:8080/"
        },
        "outputId": "35e9e6bf-7e3c-4561-8513-d8a7158537f1"
      },
      "outputs": [
        {
          "output_type": "stream",
          "name": "stdout",
          "text": [
            "+---+----------+\n",
            "|_c0|prediction|\n",
            "+---+----------+\n",
            "|  0|         5|\n",
            "|  1|         4|\n",
            "|  2|         4|\n",
            "|  3|         3|\n",
            "|  4|         4|\n",
            "|  5|         3|\n",
            "|  6|         5|\n",
            "|  7|         0|\n",
            "|  8|         3|\n",
            "|  9|         3|\n",
            "| 10|         5|\n",
            "| 11|         5|\n",
            "| 12|         5|\n",
            "| 13|         5|\n",
            "| 14|         0|\n",
            "| 15|         0|\n",
            "| 16|         0|\n",
            "| 17|         5|\n",
            "| 18|         4|\n",
            "| 19|         0|\n",
            "+---+----------+\n",
            "only showing top 20 rows\n",
            "\n"
          ]
        }
      ],
      "source": [
        "from pyspark.sql import SparkSession,SQLContext\n",
        "\n",
        "spark = SparkSession.builder.appName(\"Basics\").getOrCreate()\n",
        "sc=spark.sparkContext\n",
        "sqlContext = SQLContext(sc)\n",
        "df_pred = sqlContext.createDataFrame(rows)\n",
        "df_pred.show()"
      ]
    },
    {
      "cell_type": "code",
      "execution_count": 47,
      "metadata": {
        "id": "iX0FanM3aDIw",
        "colab": {
          "base_uri": "https://localhost:8080/"
        },
        "outputId": "54ec27d5-06f2-48c9-943a-30355151a70e"
      },
      "outputs": [
        {
          "output_type": "stream",
          "name": "stdout",
          "text": [
            "+---+----------+-----------+------------+--------------+---------+---------------+---------+---+\n",
            "|_c0|prediction|mean_radius|mean_texture|mean_perimeter|mean_area|mean_smoothness|diagnosis| id|\n",
            "+---+----------+-----------+------------+--------------+---------+---------------+---------+---+\n",
            "|  0|         5|      17.99|       10.38|         122.8|   1001.0|         0.1184|        0|  1|\n",
            "|  1|         4|      20.57|       17.77|         132.9|   1326.0|        0.08474|        0|  2|\n",
            "|  2|         4|      19.69|       21.25|         130.0|   1203.0|         0.1096|        0|  3|\n",
            "|  3|         3|      11.42|       20.38|         77.58|    386.1|         0.1425|        0|  4|\n",
            "|  4|         4|      20.29|       14.34|         135.1|   1297.0|         0.1003|        0|  5|\n",
            "|  5|         3|      12.45|        15.7|         82.57|    477.1|         0.1278|        0|  6|\n",
            "|  6|         5|      18.25|       19.98|         119.6|   1040.0|        0.09463|        0|  7|\n",
            "|  7|         0|      13.71|       20.83|          90.2|    577.9|         0.1189|        0|  8|\n",
            "|  8|         3|       13.0|       21.82|          87.5|    519.8|         0.1273|        0|  9|\n",
            "|  9|         3|      12.46|       24.04|         83.97|    475.9|         0.1186|        0| 10|\n",
            "| 10|         5|      16.02|       23.24|         102.7|    797.8|        0.08206|        0| 11|\n",
            "| 11|         5|      15.78|       17.89|         103.6|    781.0|         0.0971|        0| 12|\n",
            "| 12|         5|      19.17|        24.8|         132.4|   1123.0|         0.0974|        0| 13|\n",
            "| 13|         5|      15.85|       23.95|         103.7|    782.7|        0.08401|        0| 14|\n",
            "| 14|         0|      13.73|       22.61|          93.6|    578.3|         0.1131|        0| 15|\n",
            "| 15|         0|      14.54|       27.54|         96.73|    658.8|         0.1139|        0| 16|\n",
            "| 16|         0|      14.68|       20.13|         94.74|    684.5|        0.09867|        0| 17|\n",
            "| 17|         5|      16.13|       20.68|         108.1|    798.8|          0.117|        0| 18|\n",
            "| 18|         4|      19.81|       22.15|         130.0|   1260.0|        0.09831|        0| 19|\n",
            "| 19|         0|      13.54|       14.36|         87.46|    566.3|        0.09779|        1| 20|\n",
            "+---+----------+-----------+------------+--------------+---------+---------------+---------+---+\n",
            "only showing top 20 rows\n",
            "\n"
          ]
        }
      ],
      "source": [
        "# Join the prediction with the original data\n",
        "df_pred = df_pred.join(df, '_c0')\n",
        "df_pred.show()"
      ]
    },
    {
      "cell_type": "code",
      "execution_count": 48,
      "metadata": {
        "id": "ICtQTaMsaLAn",
        "colab": {
          "base_uri": "https://localhost:8080/",
          "height": 0
        },
        "outputId": "947b6fd1-685a-46bb-8ac8-c46d2b701bdf"
      },
      "outputs": [
        {
          "output_type": "execute_result",
          "data": {
            "text/plain": [
              "     prediction  mean_radius  mean_texture  mean_perimeter  mean_area  \\\n",
              "_c0                                                                     \n",
              "0             5        17.99         10.38          122.80     1001.0   \n",
              "1             4        20.57         17.77          132.90     1326.0   \n",
              "2             4        19.69         21.25          130.00     1203.0   \n",
              "3             3        11.42         20.38           77.58      386.1   \n",
              "4             4        20.29         14.34          135.10     1297.0   \n",
              "\n",
              "     mean_smoothness  diagnosis  id  \n",
              "_c0                                  \n",
              "0            0.11840          0   1  \n",
              "1            0.08474          0   2  \n",
              "2            0.10960          0   3  \n",
              "3            0.14250          0   4  \n",
              "4            0.10030          0   5  "
            ],
            "text/html": [
              "\n",
              "  <div id=\"df-6fc8bde1-92a7-4005-bce6-69d2d8d6f63a\">\n",
              "    <div class=\"colab-df-container\">\n",
              "      <div>\n",
              "<style scoped>\n",
              "    .dataframe tbody tr th:only-of-type {\n",
              "        vertical-align: middle;\n",
              "    }\n",
              "\n",
              "    .dataframe tbody tr th {\n",
              "        vertical-align: top;\n",
              "    }\n",
              "\n",
              "    .dataframe thead th {\n",
              "        text-align: right;\n",
              "    }\n",
              "</style>\n",
              "<table border=\"1\" class=\"dataframe\">\n",
              "  <thead>\n",
              "    <tr style=\"text-align: right;\">\n",
              "      <th></th>\n",
              "      <th>prediction</th>\n",
              "      <th>mean_radius</th>\n",
              "      <th>mean_texture</th>\n",
              "      <th>mean_perimeter</th>\n",
              "      <th>mean_area</th>\n",
              "      <th>mean_smoothness</th>\n",
              "      <th>diagnosis</th>\n",
              "      <th>id</th>\n",
              "    </tr>\n",
              "    <tr>\n",
              "      <th>_c0</th>\n",
              "      <th></th>\n",
              "      <th></th>\n",
              "      <th></th>\n",
              "      <th></th>\n",
              "      <th></th>\n",
              "      <th></th>\n",
              "      <th></th>\n",
              "      <th></th>\n",
              "    </tr>\n",
              "  </thead>\n",
              "  <tbody>\n",
              "    <tr>\n",
              "      <th>0</th>\n",
              "      <td>5</td>\n",
              "      <td>17.99</td>\n",
              "      <td>10.38</td>\n",
              "      <td>122.80</td>\n",
              "      <td>1001.0</td>\n",
              "      <td>0.11840</td>\n",
              "      <td>0</td>\n",
              "      <td>1</td>\n",
              "    </tr>\n",
              "    <tr>\n",
              "      <th>1</th>\n",
              "      <td>4</td>\n",
              "      <td>20.57</td>\n",
              "      <td>17.77</td>\n",
              "      <td>132.90</td>\n",
              "      <td>1326.0</td>\n",
              "      <td>0.08474</td>\n",
              "      <td>0</td>\n",
              "      <td>2</td>\n",
              "    </tr>\n",
              "    <tr>\n",
              "      <th>2</th>\n",
              "      <td>4</td>\n",
              "      <td>19.69</td>\n",
              "      <td>21.25</td>\n",
              "      <td>130.00</td>\n",
              "      <td>1203.0</td>\n",
              "      <td>0.10960</td>\n",
              "      <td>0</td>\n",
              "      <td>3</td>\n",
              "    </tr>\n",
              "    <tr>\n",
              "      <th>3</th>\n",
              "      <td>3</td>\n",
              "      <td>11.42</td>\n",
              "      <td>20.38</td>\n",
              "      <td>77.58</td>\n",
              "      <td>386.1</td>\n",
              "      <td>0.14250</td>\n",
              "      <td>0</td>\n",
              "      <td>4</td>\n",
              "    </tr>\n",
              "    <tr>\n",
              "      <th>4</th>\n",
              "      <td>4</td>\n",
              "      <td>20.29</td>\n",
              "      <td>14.34</td>\n",
              "      <td>135.10</td>\n",
              "      <td>1297.0</td>\n",
              "      <td>0.10030</td>\n",
              "      <td>0</td>\n",
              "      <td>5</td>\n",
              "    </tr>\n",
              "  </tbody>\n",
              "</table>\n",
              "</div>\n",
              "      <button class=\"colab-df-convert\" onclick=\"convertToInteractive('df-6fc8bde1-92a7-4005-bce6-69d2d8d6f63a')\"\n",
              "              title=\"Convert this dataframe to an interactive table.\"\n",
              "              style=\"display:none;\">\n",
              "        \n",
              "  <svg xmlns=\"http://www.w3.org/2000/svg\" height=\"24px\"viewBox=\"0 0 24 24\"\n",
              "       width=\"24px\">\n",
              "    <path d=\"M0 0h24v24H0V0z\" fill=\"none\"/>\n",
              "    <path d=\"M18.56 5.44l.94 2.06.94-2.06 2.06-.94-2.06-.94-.94-2.06-.94 2.06-2.06.94zm-11 1L8.5 8.5l.94-2.06 2.06-.94-2.06-.94L8.5 2.5l-.94 2.06-2.06.94zm10 10l.94 2.06.94-2.06 2.06-.94-2.06-.94-.94-2.06-.94 2.06-2.06.94z\"/><path d=\"M17.41 7.96l-1.37-1.37c-.4-.4-.92-.59-1.43-.59-.52 0-1.04.2-1.43.59L10.3 9.45l-7.72 7.72c-.78.78-.78 2.05 0 2.83L4 21.41c.39.39.9.59 1.41.59.51 0 1.02-.2 1.41-.59l7.78-7.78 2.81-2.81c.8-.78.8-2.07 0-2.86zM5.41 20L4 18.59l7.72-7.72 1.47 1.35L5.41 20z\"/>\n",
              "  </svg>\n",
              "      </button>\n",
              "      \n",
              "  <style>\n",
              "    .colab-df-container {\n",
              "      display:flex;\n",
              "      flex-wrap:wrap;\n",
              "      gap: 12px;\n",
              "    }\n",
              "\n",
              "    .colab-df-convert {\n",
              "      background-color: #E8F0FE;\n",
              "      border: none;\n",
              "      border-radius: 50%;\n",
              "      cursor: pointer;\n",
              "      display: none;\n",
              "      fill: #1967D2;\n",
              "      height: 32px;\n",
              "      padding: 0 0 0 0;\n",
              "      width: 32px;\n",
              "    }\n",
              "\n",
              "    .colab-df-convert:hover {\n",
              "      background-color: #E2EBFA;\n",
              "      box-shadow: 0px 1px 2px rgba(60, 64, 67, 0.3), 0px 1px 3px 1px rgba(60, 64, 67, 0.15);\n",
              "      fill: #174EA6;\n",
              "    }\n",
              "\n",
              "    [theme=dark] .colab-df-convert {\n",
              "      background-color: #3B4455;\n",
              "      fill: #D2E3FC;\n",
              "    }\n",
              "\n",
              "    [theme=dark] .colab-df-convert:hover {\n",
              "      background-color: #434B5C;\n",
              "      box-shadow: 0px 1px 3px 1px rgba(0, 0, 0, 0.15);\n",
              "      filter: drop-shadow(0px 1px 2px rgba(0, 0, 0, 0.3));\n",
              "      fill: #FFFFFF;\n",
              "    }\n",
              "  </style>\n",
              "\n",
              "      <script>\n",
              "        const buttonEl =\n",
              "          document.querySelector('#df-6fc8bde1-92a7-4005-bce6-69d2d8d6f63a button.colab-df-convert');\n",
              "        buttonEl.style.display =\n",
              "          google.colab.kernel.accessAllowed ? 'block' : 'none';\n",
              "\n",
              "        async function convertToInteractive(key) {\n",
              "          const element = document.querySelector('#df-6fc8bde1-92a7-4005-bce6-69d2d8d6f63a');\n",
              "          const dataTable =\n",
              "            await google.colab.kernel.invokeFunction('convertToInteractive',\n",
              "                                                     [key], {});\n",
              "          if (!dataTable) return;\n",
              "\n",
              "          const docLinkHtml = 'Like what you see? Visit the ' +\n",
              "            '<a target=\"_blank\" href=https://colab.research.google.com/notebooks/data_table.ipynb>data table notebook</a>'\n",
              "            + ' to learn more about interactive tables.';\n",
              "          element.innerHTML = '';\n",
              "          dataTable['output_type'] = 'display_data';\n",
              "          await google.colab.output.renderOutput(dataTable, element);\n",
              "          const docLink = document.createElement('div');\n",
              "          docLink.innerHTML = docLinkHtml;\n",
              "          element.appendChild(docLink);\n",
              "        }\n",
              "      </script>\n",
              "    </div>\n",
              "  </div>\n",
              "  "
            ]
          },
          "metadata": {},
          "execution_count": 48
        }
      ],
      "source": [
        "# Convert to Pandas dataframe\n",
        "pddf_pred = df_pred.toPandas().set_index('_c0')\n",
        "pddf_pred.head()"
      ]
    },
    {
      "cell_type": "markdown",
      "source": [
        "# vizualisation "
      ],
      "metadata": {
        "id": "CE1Jvz0VKCjs"
      }
    },
    {
      "cell_type": "code",
      "execution_count": 49,
      "metadata": {
        "id": "gSpmgrLkaOjg",
        "colab": {
          "base_uri": "https://localhost:8080/",
          "height": 575
        },
        "outputId": "333d8c12-80c5-466b-f956-a26b837d8e25"
      },
      "outputs": [
        {
          "output_type": "display_data",
          "data": {
            "text/plain": [
              "<Figure size 864x720 with 1 Axes>"
            ],
            "image/png": "[encoded data removed]"
          },
          "metadata": {
            "needs_background": "light"
          }
        }
      ],
      "source": [
        "# Visualize the results\n",
        "threedee = plt.figure(figsize=(12,10)).gca(projection='3d')\n",
        "threedee.scatter(pddf_pred.id, pddf_pred.mean_radius, pddf_pred.mean_texture, c=pddf_pred.prediction)\n",
        "threedee.set_xlabel('id')\n",
        "threedee.set_ylabel('mean_radius')\n",
        "threedee.set_zlabel('mean_texture')\n",
        "plt.show()"
      ]
    },
    {
      "cell_type": "code",
      "source": [
        "import numpy as np"
      ],
      "metadata": {
        "id": "-lZzl5psM8wV"
      },
      "execution_count": 50,
      "outputs": []
    },
    {
      "cell_type": "code",
      "source": [
        "# List of Features and Prediction\n",
        "colss = ['_c0','mean_radius','mean_texture','mean_perimeter','mean_area','mean_smoothness','diagnosis','id']\n",
        "colNames = list(colss)\n",
        "colNames.append('prediction')"
      ],
      "metadata": {
        "id": "FJ2aj7a2KLOy"
      },
      "execution_count": 51,
      "outputs": []
    },
    {
      "cell_type": "code",
      "execution_count": 52,
      "metadata": {
        "id": "hWYZYrZlT0PB",
        "colab": {
          "base_uri": "https://localhost:8080/",
          "height": 363
        },
        "outputId": "f070ed20-be48-4506-8385-64a34761e5bc"
      },
      "outputs": [
        {
          "output_type": "execute_result",
          "data": {
            "text/plain": [
              "          _c0  mean_radius  mean_texture  mean_perimeter    mean_area  \\\n",
              "0  144.551724    14.310230     19.352299       93.477586   634.198851   \n",
              "1  294.166667    23.472500     22.007500      157.041667  1706.583333   \n",
              "2  441.472222    19.393611     21.638611      128.066667  1169.727778   \n",
              "3  107.626506    11.184301     17.386386       72.018554   389.615663   \n",
              "4  167.657143    19.902571     22.604571      131.611429  1236.257143   \n",
              "5  113.333333    17.442444     20.939111      114.655556   948.824444   \n",
              "6  284.333333    27.583333     22.203333      185.833333  2416.666667   \n",
              "7  486.687500    11.039425     19.567375       70.830500   377.226250   \n",
              "8  443.471910    14.368090     19.354045       93.256067   641.085393   \n",
              "9  307.464646    11.708465     17.354343       75.108687   425.035354   \n",
              "\n",
              "   mean_smoothness  diagnosis          id  prediction  \n",
              "0         0.098454   0.459770  145.551724           0  \n",
              "1         0.104746   0.000000  295.166667           1  \n",
              "2         0.101253   0.027778  442.472222           2  \n",
              "3         0.099989   0.855422  108.626506           3  \n",
              "4         0.099841   0.000000  168.657143           4  \n",
              "5         0.098284   0.022222  114.333333           5  \n",
              "6         0.110667   0.000000  285.333333           6  \n",
              "7         0.095173   1.000000  487.687500           7  \n",
              "8         0.091869   0.764045  444.471910           8  \n",
              "9         0.091142   0.969697  308.464646           9  "
            ],
            "text/html": [
              "\n",
              "  <div id=\"df-bf628055-eb67-44d7-9ec9-4744b3297099\">\n",
              "    <div class=\"colab-df-container\">\n",
              "      <div>\n",
              "<style scoped>\n",
              "    .dataframe tbody tr th:only-of-type {\n",
              "        vertical-align: middle;\n",
              "    }\n",
              "\n",
              "    .dataframe tbody tr th {\n",
              "        vertical-align: top;\n",
              "    }\n",
              "\n",
              "    .dataframe thead th {\n",
              "        text-align: right;\n",
              "    }\n",
              "</style>\n",
              "<table border=\"1\" class=\"dataframe\">\n",
              "  <thead>\n",
              "    <tr style=\"text-align: right;\">\n",
              "      <th></th>\n",
              "      <th>_c0</th>\n",
              "      <th>mean_radius</th>\n",
              "      <th>mean_texture</th>\n",
              "      <th>mean_perimeter</th>\n",
              "      <th>mean_area</th>\n",
              "      <th>mean_smoothness</th>\n",
              "      <th>diagnosis</th>\n",
              "      <th>id</th>\n",
              "      <th>prediction</th>\n",
              "    </tr>\n",
              "  </thead>\n",
              "  <tbody>\n",
              "    <tr>\n",
              "      <th>0</th>\n",
              "      <td>144.551724</td>\n",
              "      <td>14.310230</td>\n",
              "      <td>19.352299</td>\n",
              "      <td>93.477586</td>\n",
              "      <td>634.198851</td>\n",
              "      <td>0.098454</td>\n",
              "      <td>0.459770</td>\n",
              "      <td>145.551724</td>\n",
              "      <td>0</td>\n",
              "    </tr>\n",
              "    <tr>\n",
              "      <th>1</th>\n",
              "      <td>294.166667</td>\n",
              "      <td>23.472500</td>\n",
              "      <td>22.007500</td>\n",
              "      <td>157.041667</td>\n",
              "      <td>1706.583333</td>\n",
              "      <td>0.104746</td>\n",
              "      <td>0.000000</td>\n",
              "      <td>295.166667</td>\n",
              "      <td>1</td>\n",
              "    </tr>\n",
              "    <tr>\n",
              "      <th>2</th>\n",
              "      <td>441.472222</td>\n",
              "      <td>19.393611</td>\n",
              "      <td>21.638611</td>\n",
              "      <td>128.066667</td>\n",
              "      <td>1169.727778</td>\n",
              "      <td>0.101253</td>\n",
              "      <td>0.027778</td>\n",
              "      <td>442.472222</td>\n",
              "      <td>2</td>\n",
              "    </tr>\n",
              "    <tr>\n",
              "      <th>3</th>\n",
              "      <td>107.626506</td>\n",
              "      <td>11.184301</td>\n",
              "      <td>17.386386</td>\n",
              "      <td>72.018554</td>\n",
              "      <td>389.615663</td>\n",
              "      <td>0.099989</td>\n",
              "      <td>0.855422</td>\n",
              "      <td>108.626506</td>\n",
              "      <td>3</td>\n",
              "    </tr>\n",
              "    <tr>\n",
              "      <th>4</th>\n",
              "      <td>167.657143</td>\n",
              "      <td>19.902571</td>\n",
              "      <td>22.604571</td>\n",
              "      <td>131.611429</td>\n",
              "      <td>1236.257143</td>\n",
              "      <td>0.099841</td>\n",
              "      <td>0.000000</td>\n",
              "      <td>168.657143</td>\n",
              "      <td>4</td>\n",
              "    </tr>\n",
              "    <tr>\n",
              "      <th>5</th>\n",
              "      <td>113.333333</td>\n",
              "      <td>17.442444</td>\n",
              "      <td>20.939111</td>\n",
              "      <td>114.655556</td>\n",
              "      <td>948.824444</td>\n",
              "      <td>0.098284</td>\n",
              "      <td>0.022222</td>\n",
              "      <td>114.333333</td>\n",
              "      <td>5</td>\n",
              "    </tr>\n",
              "    <tr>\n",
              "      <th>6</th>\n",
              "      <td>284.333333</td>\n",
              "      <td>27.583333</td>\n",
              "      <td>22.203333</td>\n",
              "      <td>185.833333</td>\n",
              "      <td>2416.666667</td>\n",
              "      <td>0.110667</td>\n",
              "      <td>0.000000</td>\n",
              "      <td>285.333333</td>\n",
              "      <td>6</td>\n",
              "    </tr>\n",
              "    <tr>\n",
              "      <th>7</th>\n",
              "      <td>486.687500</td>\n",
              "      <td>11.039425</td>\n",
              "      <td>19.567375</td>\n",
              "      <td>70.830500</td>\n",
              "      <td>377.226250</td>\n",
              "      <td>0.095173</td>\n",
              "      <td>1.000000</td>\n",
              "      <td>487.687500</td>\n",
              "      <td>7</td>\n",
              "    </tr>\n",
              "    <tr>\n",
              "      <th>8</th>\n",
              "      <td>443.471910</td>\n",
              "      <td>14.368090</td>\n",
              "      <td>19.354045</td>\n",
              "      <td>93.256067</td>\n",
              "      <td>641.085393</td>\n",
              "      <td>0.091869</td>\n",
              "      <td>0.764045</td>\n",
              "      <td>444.471910</td>\n",
              "      <td>8</td>\n",
              "    </tr>\n",
              "    <tr>\n",
              "      <th>9</th>\n",
              "      <td>307.464646</td>\n",
              "      <td>11.708465</td>\n",
              "      <td>17.354343</td>\n",
              "      <td>75.108687</td>\n",
              "      <td>425.035354</td>\n",
              "      <td>0.091142</td>\n",
              "      <td>0.969697</td>\n",
              "      <td>308.464646</td>\n",
              "      <td>9</td>\n",
              "    </tr>\n",
              "  </tbody>\n",
              "</table>\n",
              "</div>\n",
              "      <button class=\"colab-df-convert\" onclick=\"convertToInteractive('df-bf628055-eb67-44d7-9ec9-4744b3297099')\"\n",
              "              title=\"Convert this dataframe to an interactive table.\"\n",
              "              style=\"display:none;\">\n",
              "        \n",
              "  <svg xmlns=\"http://www.w3.org/2000/svg\" height=\"24px\"viewBox=\"0 0 24 24\"\n",
              "       width=\"24px\">\n",
              "    <path d=\"M0 0h24v24H0V0z\" fill=\"none\"/>\n",
              "    <path d=\"M18.56 5.44l.94 2.06.94-2.06 2.06-.94-2.06-.94-.94-2.06-.94 2.06-2.06.94zm-11 1L8.5 8.5l.94-2.06 2.06-.94-2.06-.94L8.5 2.5l-.94 2.06-2.06.94zm10 10l.94 2.06.94-2.06 2.06-.94-2.06-.94-.94-2.06-.94 2.06-2.06.94z\"/><path d=\"M17.41 7.96l-1.37-1.37c-.4-.4-.92-.59-1.43-.59-.52 0-1.04.2-1.43.59L10.3 9.45l-7.72 7.72c-.78.78-.78 2.05 0 2.83L4 21.41c.39.39.9.59 1.41.59.51 0 1.02-.2 1.41-.59l7.78-7.78 2.81-2.81c.8-.78.8-2.07 0-2.86zM5.41 20L4 18.59l7.72-7.72 1.47 1.35L5.41 20z\"/>\n",
              "  </svg>\n",
              "      </button>\n",
              "      \n",
              "  <style>\n",
              "    .colab-df-container {\n",
              "      display:flex;\n",
              "      flex-wrap:wrap;\n",
              "      gap: 12px;\n",
              "    }\n",
              "\n",
              "    .colab-df-convert {\n",
              "      background-color: #E8F0FE;\n",
              "      border: none;\n",
              "      border-radius: 50%;\n",
              "      cursor: pointer;\n",
              "      display: none;\n",
              "      fill: #1967D2;\n",
              "      height: 32px;\n",
              "      padding: 0 0 0 0;\n",
              "      width: 32px;\n",
              "    }\n",
              "\n",
              "    .colab-df-convert:hover {\n",
              "      background-color: #E2EBFA;\n",
              "      box-shadow: 0px 1px 2px rgba(60, 64, 67, 0.3), 0px 1px 3px 1px rgba(60, 64, 67, 0.15);\n",
              "      fill: #174EA6;\n",
              "    }\n",
              "\n",
              "    [theme=dark] .colab-df-convert {\n",
              "      background-color: #3B4455;\n",
              "      fill: #D2E3FC;\n",
              "    }\n",
              "\n",
              "    [theme=dark] .colab-df-convert:hover {\n",
              "      background-color: #434B5C;\n",
              "      box-shadow: 0px 1px 3px 1px rgba(0, 0, 0, 0.15);\n",
              "      filter: drop-shadow(0px 1px 2px rgba(0, 0, 0, 0.3));\n",
              "      fill: #FFFFFF;\n",
              "    }\n",
              "  </style>\n",
              "\n",
              "      <script>\n",
              "        const buttonEl =\n",
              "          document.querySelector('#df-bf628055-eb67-44d7-9ec9-4744b3297099 button.colab-df-convert');\n",
              "        buttonEl.style.display =\n",
              "          google.colab.kernel.accessAllowed ? 'block' : 'none';\n",
              "\n",
              "        async function convertToInteractive(key) {\n",
              "          const element = document.querySelector('#df-bf628055-eb67-44d7-9ec9-4744b3297099');\n",
              "          const dataTable =\n",
              "            await google.colab.kernel.invokeFunction('convertToInteractive',\n",
              "                                                     [key], {});\n",
              "          if (!dataTable) return;\n",
              "\n",
              "          const docLinkHtml = 'Like what you see? Visit the ' +\n",
              "            '<a target=\"_blank\" href=https://colab.research.google.com/notebooks/data_table.ipynb>data table notebook</a>'\n",
              "            + ' to learn more about interactive tables.';\n",
              "          element.innerHTML = '';\n",
              "          dataTable['output_type'] = 'display_data';\n",
              "          await google.colab.output.renderOutput(dataTable, element);\n",
              "          const docLink = document.createElement('div');\n",
              "          docLink.innerHTML = docLinkHtml;\n",
              "          element.appendChild(docLink);\n",
              "        }\n",
              "      </script>\n",
              "    </div>\n",
              "  </div>\n",
              "  "
            ]
          },
          "metadata": {},
          "execution_count": 52
        }
      ],
      "source": [
        "# Get the cluster centers\n",
        "C = model.clusterCenters()\n",
        "\n",
        "# Zip with a column called 'prediction' (index)\n",
        "Z = [np.append(A, index) for index, A in enumerate(C)]\n",
        "\n",
        "# Convert to pandas for plotting\n",
        "P = pd.DataFrame(Z, columns=colNames)\n",
        "P['prediction'] = P['prediction'].astype(int)\n",
        "\n",
        "P"
      ]
    }
  ],
  "metadata": {
    "colab": {
      "collapsed_sections": [
        "4DnDKpP_6Wr9",
        "_v4fgcuc7oPT",
        "Ij9Dm_9W8XZz",
        "InwNCYngB-fy",
        "QfFUp13KCEZn",
        "i9eDpjq1C0ZX",
        "4cFv3QP4DEUP",
        "WkNbsw99J3mH",
        "McTo0se_YOpw",
        "CE1Jvz0VKCjs"
      ],
      "name": "br spark.ipynb",
      "provenance": [],
      "authorship_tag": "ABX9TyOPFWhhI5uFlngpbemcGzSo",
      "include_colab_link": true
    },
    "kernelspec": {
      "display_name": "Python 3",
      "name": "python3"
    },
    "language_info": {
      "name": "python"
    }
  },
  "nbformat": 4,
  "nbformat_minor": 0
}